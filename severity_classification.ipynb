{
 "cells": [
  {
   "cell_type": "code",
   "execution_count": 1,
   "id": "d1d72cc4-6fa4-4715-90ef-dfb336a97b0e",
   "metadata": {
    "scrolled": true
   },
   "outputs": [],
   "source": [
    "import pandas as pd"
   ]
  },
  {
   "cell_type": "code",
   "execution_count": null,
   "id": "0fde140c-f4dc-4b5b-9751-dc1bd2d0258e",
   "metadata": {},
   "outputs": [],
   "source": []
  },
  {
   "cell_type": "code",
   "execution_count": 2,
   "id": "6cdea321-4a86-43d3-a7cd-8c7bdf928238",
   "metadata": {},
   "outputs": [],
   "source": [
    "# df = pd.read_csv(\"archive/US_Accidents_March23.csv\")\n",
    "df = pd.read_csv(\"archive/US_Accidents_March23.csv\",parse_dates=['Start_Time', 'End_Time'])\n"
   ]
  },
  {
   "cell_type": "markdown",
   "id": "d9ac8445-1dce-491c-a706-9132fd9e7e58",
   "metadata": {},
   "source": [
    "<h1>Dataset Inspection</h1>"
   ]
  },
  {
   "cell_type": "code",
   "execution_count": 3,
   "id": "04f7e43f-d64c-4363-bad1-2ee3580a99b3",
   "metadata": {},
   "outputs": [
    {
     "data": {
      "text/html": [
       "<div>\n",
       "<style scoped>\n",
       "    .dataframe tbody tr th:only-of-type {\n",
       "        vertical-align: middle;\n",
       "    }\n",
       "\n",
       "    .dataframe tbody tr th {\n",
       "        vertical-align: top;\n",
       "    }\n",
       "\n",
       "    .dataframe thead th {\n",
       "        text-align: right;\n",
       "    }\n",
       "</style>\n",
       "<table border=\"1\" class=\"dataframe\">\n",
       "  <thead>\n",
       "    <tr style=\"text-align: right;\">\n",
       "      <th></th>\n",
       "      <th>ID</th>\n",
       "      <th>Source</th>\n",
       "      <th>Severity</th>\n",
       "      <th>Start_Time</th>\n",
       "      <th>End_Time</th>\n",
       "      <th>Start_Lat</th>\n",
       "      <th>Start_Lng</th>\n",
       "      <th>End_Lat</th>\n",
       "      <th>End_Lng</th>\n",
       "      <th>Distance(mi)</th>\n",
       "      <th>...</th>\n",
       "      <th>Roundabout</th>\n",
       "      <th>Station</th>\n",
       "      <th>Stop</th>\n",
       "      <th>Traffic_Calming</th>\n",
       "      <th>Traffic_Signal</th>\n",
       "      <th>Turning_Loop</th>\n",
       "      <th>Sunrise_Sunset</th>\n",
       "      <th>Civil_Twilight</th>\n",
       "      <th>Nautical_Twilight</th>\n",
       "      <th>Astronomical_Twilight</th>\n",
       "    </tr>\n",
       "  </thead>\n",
       "  <tbody>\n",
       "    <tr>\n",
       "      <th>0</th>\n",
       "      <td>A-1</td>\n",
       "      <td>Source2</td>\n",
       "      <td>3</td>\n",
       "      <td>2016-02-08 05:46:00</td>\n",
       "      <td>2016-02-08 11:00:00</td>\n",
       "      <td>39.865147</td>\n",
       "      <td>-84.058723</td>\n",
       "      <td>NaN</td>\n",
       "      <td>NaN</td>\n",
       "      <td>0.01</td>\n",
       "      <td>...</td>\n",
       "      <td>False</td>\n",
       "      <td>False</td>\n",
       "      <td>False</td>\n",
       "      <td>False</td>\n",
       "      <td>False</td>\n",
       "      <td>False</td>\n",
       "      <td>Night</td>\n",
       "      <td>Night</td>\n",
       "      <td>Night</td>\n",
       "      <td>Night</td>\n",
       "    </tr>\n",
       "    <tr>\n",
       "      <th>1</th>\n",
       "      <td>A-2</td>\n",
       "      <td>Source2</td>\n",
       "      <td>2</td>\n",
       "      <td>2016-02-08 06:07:59</td>\n",
       "      <td>2016-02-08 06:37:59</td>\n",
       "      <td>39.928059</td>\n",
       "      <td>-82.831184</td>\n",
       "      <td>NaN</td>\n",
       "      <td>NaN</td>\n",
       "      <td>0.01</td>\n",
       "      <td>...</td>\n",
       "      <td>False</td>\n",
       "      <td>False</td>\n",
       "      <td>False</td>\n",
       "      <td>False</td>\n",
       "      <td>False</td>\n",
       "      <td>False</td>\n",
       "      <td>Night</td>\n",
       "      <td>Night</td>\n",
       "      <td>Night</td>\n",
       "      <td>Day</td>\n",
       "    </tr>\n",
       "    <tr>\n",
       "      <th>2</th>\n",
       "      <td>A-3</td>\n",
       "      <td>Source2</td>\n",
       "      <td>2</td>\n",
       "      <td>2016-02-08 06:49:27</td>\n",
       "      <td>2016-02-08 07:19:27</td>\n",
       "      <td>39.063148</td>\n",
       "      <td>-84.032608</td>\n",
       "      <td>NaN</td>\n",
       "      <td>NaN</td>\n",
       "      <td>0.01</td>\n",
       "      <td>...</td>\n",
       "      <td>False</td>\n",
       "      <td>False</td>\n",
       "      <td>False</td>\n",
       "      <td>False</td>\n",
       "      <td>True</td>\n",
       "      <td>False</td>\n",
       "      <td>Night</td>\n",
       "      <td>Night</td>\n",
       "      <td>Day</td>\n",
       "      <td>Day</td>\n",
       "    </tr>\n",
       "    <tr>\n",
       "      <th>3</th>\n",
       "      <td>A-4</td>\n",
       "      <td>Source2</td>\n",
       "      <td>3</td>\n",
       "      <td>2016-02-08 07:23:34</td>\n",
       "      <td>2016-02-08 07:53:34</td>\n",
       "      <td>39.747753</td>\n",
       "      <td>-84.205582</td>\n",
       "      <td>NaN</td>\n",
       "      <td>NaN</td>\n",
       "      <td>0.01</td>\n",
       "      <td>...</td>\n",
       "      <td>False</td>\n",
       "      <td>False</td>\n",
       "      <td>False</td>\n",
       "      <td>False</td>\n",
       "      <td>False</td>\n",
       "      <td>False</td>\n",
       "      <td>Night</td>\n",
       "      <td>Day</td>\n",
       "      <td>Day</td>\n",
       "      <td>Day</td>\n",
       "    </tr>\n",
       "    <tr>\n",
       "      <th>4</th>\n",
       "      <td>A-5</td>\n",
       "      <td>Source2</td>\n",
       "      <td>2</td>\n",
       "      <td>2016-02-08 07:39:07</td>\n",
       "      <td>2016-02-08 08:09:07</td>\n",
       "      <td>39.627781</td>\n",
       "      <td>-84.188354</td>\n",
       "      <td>NaN</td>\n",
       "      <td>NaN</td>\n",
       "      <td>0.01</td>\n",
       "      <td>...</td>\n",
       "      <td>False</td>\n",
       "      <td>False</td>\n",
       "      <td>False</td>\n",
       "      <td>False</td>\n",
       "      <td>True</td>\n",
       "      <td>False</td>\n",
       "      <td>Day</td>\n",
       "      <td>Day</td>\n",
       "      <td>Day</td>\n",
       "      <td>Day</td>\n",
       "    </tr>\n",
       "  </tbody>\n",
       "</table>\n",
       "<p>5 rows × 46 columns</p>\n",
       "</div>"
      ],
      "text/plain": [
       "    ID   Source  Severity           Start_Time             End_Time  \\\n",
       "0  A-1  Source2         3  2016-02-08 05:46:00  2016-02-08 11:00:00   \n",
       "1  A-2  Source2         2  2016-02-08 06:07:59  2016-02-08 06:37:59   \n",
       "2  A-3  Source2         2  2016-02-08 06:49:27  2016-02-08 07:19:27   \n",
       "3  A-4  Source2         3  2016-02-08 07:23:34  2016-02-08 07:53:34   \n",
       "4  A-5  Source2         2  2016-02-08 07:39:07  2016-02-08 08:09:07   \n",
       "\n",
       "   Start_Lat  Start_Lng  End_Lat  End_Lng  Distance(mi)  ... Roundabout  \\\n",
       "0  39.865147 -84.058723      NaN      NaN          0.01  ...      False   \n",
       "1  39.928059 -82.831184      NaN      NaN          0.01  ...      False   \n",
       "2  39.063148 -84.032608      NaN      NaN          0.01  ...      False   \n",
       "3  39.747753 -84.205582      NaN      NaN          0.01  ...      False   \n",
       "4  39.627781 -84.188354      NaN      NaN          0.01  ...      False   \n",
       "\n",
       "  Station   Stop Traffic_Calming Traffic_Signal Turning_Loop Sunrise_Sunset  \\\n",
       "0   False  False           False          False        False          Night   \n",
       "1   False  False           False          False        False          Night   \n",
       "2   False  False           False           True        False          Night   \n",
       "3   False  False           False          False        False          Night   \n",
       "4   False  False           False           True        False            Day   \n",
       "\n",
       "  Civil_Twilight Nautical_Twilight Astronomical_Twilight  \n",
       "0          Night             Night                 Night  \n",
       "1          Night             Night                   Day  \n",
       "2          Night               Day                   Day  \n",
       "3            Day               Day                   Day  \n",
       "4            Day               Day                   Day  \n",
       "\n",
       "[5 rows x 46 columns]"
      ]
     },
     "execution_count": 3,
     "metadata": {},
     "output_type": "execute_result"
    }
   ],
   "source": [
    "df.head()"
   ]
  },
  {
   "cell_type": "code",
   "execution_count": 4,
   "id": "a20abb67-29bf-4788-ad55-5e4ea9a7358f",
   "metadata": {},
   "outputs": [
    {
     "data": {
      "text/plain": [
       "Index(['ID', 'Source', 'Severity', 'Start_Time', 'End_Time', 'Start_Lat',\n",
       "       'Start_Lng', 'End_Lat', 'End_Lng', 'Distance(mi)', 'Description',\n",
       "       'Street', 'City', 'County', 'State', 'Zipcode', 'Country', 'Timezone',\n",
       "       'Airport_Code', 'Weather_Timestamp', 'Temperature(F)', 'Wind_Chill(F)',\n",
       "       'Humidity(%)', 'Pressure(in)', 'Visibility(mi)', 'Wind_Direction',\n",
       "       'Wind_Speed(mph)', 'Precipitation(in)', 'Weather_Condition', 'Amenity',\n",
       "       'Bump', 'Crossing', 'Give_Way', 'Junction', 'No_Exit', 'Railway',\n",
       "       'Roundabout', 'Station', 'Stop', 'Traffic_Calming', 'Traffic_Signal',\n",
       "       'Turning_Loop', 'Sunrise_Sunset', 'Civil_Twilight', 'Nautical_Twilight',\n",
       "       'Astronomical_Twilight'],\n",
       "      dtype='object')"
      ]
     },
     "execution_count": 4,
     "metadata": {},
     "output_type": "execute_result"
    }
   ],
   "source": [
    "df.columns"
   ]
  },
  {
   "cell_type": "code",
   "execution_count": 5,
   "id": "5aeb9e0e-22a3-40b9-9e2c-7570db063761",
   "metadata": {},
   "outputs": [
    {
     "name": "stdout",
     "output_type": "stream",
     "text": [
      "<class 'pandas.core.frame.DataFrame'>\n",
      "RangeIndex: 7728394 entries, 0 to 7728393\n",
      "Data columns (total 46 columns):\n",
      " #   Column                 Dtype  \n",
      "---  ------                 -----  \n",
      " 0   ID                     object \n",
      " 1   Source                 object \n",
      " 2   Severity               int64  \n",
      " 3   Start_Time             object \n",
      " 4   End_Time               object \n",
      " 5   Start_Lat              float64\n",
      " 6   Start_Lng              float64\n",
      " 7   End_Lat                float64\n",
      " 8   End_Lng                float64\n",
      " 9   Distance(mi)           float64\n",
      " 10  Description            object \n",
      " 11  Street                 object \n",
      " 12  City                   object \n",
      " 13  County                 object \n",
      " 14  State                  object \n",
      " 15  Zipcode                object \n",
      " 16  Country                object \n",
      " 17  Timezone               object \n",
      " 18  Airport_Code           object \n",
      " 19  Weather_Timestamp      object \n",
      " 20  Temperature(F)         float64\n",
      " 21  Wind_Chill(F)          float64\n",
      " 22  Humidity(%)            float64\n",
      " 23  Pressure(in)           float64\n",
      " 24  Visibility(mi)         float64\n",
      " 25  Wind_Direction         object \n",
      " 26  Wind_Speed(mph)        float64\n",
      " 27  Precipitation(in)      float64\n",
      " 28  Weather_Condition      object \n",
      " 29  Amenity                bool   \n",
      " 30  Bump                   bool   \n",
      " 31  Crossing               bool   \n",
      " 32  Give_Way               bool   \n",
      " 33  Junction               bool   \n",
      " 34  No_Exit                bool   \n",
      " 35  Railway                bool   \n",
      " 36  Roundabout             bool   \n",
      " 37  Station                bool   \n",
      " 38  Stop                   bool   \n",
      " 39  Traffic_Calming        bool   \n",
      " 40  Traffic_Signal         bool   \n",
      " 41  Turning_Loop           bool   \n",
      " 42  Sunrise_Sunset         object \n",
      " 43  Civil_Twilight         object \n",
      " 44  Nautical_Twilight      object \n",
      " 45  Astronomical_Twilight  object \n",
      "dtypes: bool(13), float64(12), int64(1), object(20)\n",
      "memory usage: 2.0+ GB\n"
     ]
    }
   ],
   "source": [
    "df.info()"
   ]
  },
  {
   "cell_type": "markdown",
   "id": "1b124904-64b5-407a-9d93-ceabcb49b4b4",
   "metadata": {},
   "source": [
    "<h2>Basic EDA</h2>"
   ]
  },
  {
   "cell_type": "code",
   "execution_count": 6,
   "id": "18f6e0e6-5cc5-42e7-acda-532b50bd3017",
   "metadata": {},
   "outputs": [
    {
     "data": {
      "image/png": "[encoded data removed]",
      "text/plain": [
       "<Figure size 800x600 with 1 Axes>"
      ]
     },
     "metadata": {},
     "output_type": "display_data"
    }
   ],
   "source": [
    "import matplotlib.pyplot as plt\n",
    "import seaborn as sns\n",
    "plt.figure(figsize=(8,6))\n",
    "sns.countplot(x='Severity', data=df)\n",
    "plt.title(\"Distribution of Accident Severity\")\n",
    "plt.show()\n",
    "     "
   ]
  },
  {
   "cell_type": "code",
   "execution_count": 7,
   "id": "e6df775c-2979-42cd-9e21-69d6835f1ecd",
   "metadata": {},
   "outputs": [
    {
     "data": {
      "image/png": "[encoded data removed]",
      "text/plain": [
       "<Figure size 1200x600 with 1 Axes>"
      ]
     },
     "metadata": {},
     "output_type": "display_data"
    }
   ],
   "source": [
    "plt.figure(figsize=(12,6))\n",
    "sns.countplot(x='State', data=df, order=df['State'].value_counts().index)\n",
    "plt.xticks(rotation=90)\n",
    "plt.title(\"Accidents by State\")\n",
    "plt.show()"
   ]
  },
  {
   "cell_type": "markdown",
   "id": "5e7e6fc9-cadd-4933-bde2-2cfe7e6cbc57",
   "metadata": {},
   "source": [
    "<h2>Inspecting Null Values</h2>"
   ]
  },
  {
   "cell_type": "code",
   "execution_count": 8,
   "id": "be2111f6-ed74-4790-a97f-983e058f4747",
   "metadata": {},
   "outputs": [
    {
     "data": {
      "text/plain": [
       "ID                             0\n",
       "Source                         0\n",
       "Severity                       0\n",
       "Start_Time                     0\n",
       "End_Time                       0\n",
       "Start_Lat                      0\n",
       "Start_Lng                      0\n",
       "End_Lat                  3402762\n",
       "End_Lng                  3402762\n",
       "Distance(mi)                   0\n",
       "Description                    5\n",
       "Street                     10869\n",
       "City                         253\n",
       "County                         0\n",
       "State                          0\n",
       "Zipcode                     1915\n",
       "Country                        0\n",
       "Timezone                    7808\n",
       "Airport_Code               22635\n",
       "Weather_Timestamp         120228\n",
       "Temperature(F)            163853\n",
       "Wind_Chill(F)            1999019\n",
       "Humidity(%)               174144\n",
       "Pressure(in)              140679\n",
       "Visibility(mi)            177098\n",
       "Wind_Direction            175206\n",
       "Wind_Speed(mph)           571233\n",
       "Precipitation(in)        2203586\n",
       "Weather_Condition         173459\n",
       "Amenity                        0\n",
       "Bump                           0\n",
       "Crossing                       0\n",
       "Give_Way                       0\n",
       "Junction                       0\n",
       "No_Exit                        0\n",
       "Railway                        0\n",
       "Roundabout                     0\n",
       "Station                        0\n",
       "Stop                           0\n",
       "Traffic_Calming                0\n",
       "Traffic_Signal                 0\n",
       "Turning_Loop                   0\n",
       "Sunrise_Sunset             23246\n",
       "Civil_Twilight             23246\n",
       "Nautical_Twilight          23246\n",
       "Astronomical_Twilight      23246\n",
       "dtype: int64"
      ]
     },
     "execution_count": 8,
     "metadata": {},
     "output_type": "execute_result"
    }
   ],
   "source": [
    "df.isnull().sum()\n"
   ]
  },
  {
   "cell_type": "markdown",
   "id": "8347adcc-094f-41ae-87df-a68a82436a8e",
   "metadata": {},
   "source": [
    "<strong>Null values in percentages</strong>"
   ]
  },
  {
   "cell_type": "code",
   "execution_count": 9,
   "id": "63f2428c-c6e2-4e04-ae8f-43933b301618",
   "metadata": {},
   "outputs": [
    {
     "data": {
      "text/plain": [
       "ID                        0.000000\n",
       "Source                    0.000000\n",
       "Severity                  0.000000\n",
       "Start_Time                0.000000\n",
       "End_Time                  0.000000\n",
       "Start_Lat                 0.000000\n",
       "Start_Lng                 0.000000\n",
       "End_Lat                  44.029355\n",
       "End_Lng                  44.029355\n",
       "Distance(mi)              0.000000\n",
       "Description               0.000065\n",
       "Street                    0.140637\n",
       "City                      0.003274\n",
       "County                    0.000000\n",
       "State                     0.000000\n",
       "Zipcode                   0.024779\n",
       "Country                   0.000000\n",
       "Timezone                  0.101030\n",
       "Airport_Code              0.292881\n",
       "Weather_Timestamp         1.555666\n",
       "Temperature(F)            2.120143\n",
       "Wind_Chill(F)            25.865904\n",
       "Humidity(%)               2.253301\n",
       "Pressure(in)              1.820288\n",
       "Visibility(mi)            2.291524\n",
       "Wind_Direction            2.267043\n",
       "Wind_Speed(mph)           7.391355\n",
       "Precipitation(in)        28.512858\n",
       "Weather_Condition         2.244438\n",
       "Amenity                   0.000000\n",
       "Bump                      0.000000\n",
       "Crossing                  0.000000\n",
       "Give_Way                  0.000000\n",
       "Junction                  0.000000\n",
       "No_Exit                   0.000000\n",
       "Railway                   0.000000\n",
       "Roundabout                0.000000\n",
       "Station                   0.000000\n",
       "Stop                      0.000000\n",
       "Traffic_Calming           0.000000\n",
       "Traffic_Signal            0.000000\n",
       "Turning_Loop              0.000000\n",
       "Sunrise_Sunset            0.300787\n",
       "Civil_Twilight            0.300787\n",
       "Nautical_Twilight         0.300787\n",
       "Astronomical_Twilight     0.300787\n",
       "dtype: float64"
      ]
     },
     "execution_count": 9,
     "metadata": {},
     "output_type": "execute_result"
    }
   ],
   "source": [
    "(df.isnull().sum().sort_values(ascending=False) / df.shape[0]) * 100"
   ]
  },
  {
   "cell_type": "code",
   "execution_count": 10,
   "id": "02629f7b-f334-4969-988c-be0f5d5c32b5",
   "metadata": {},
   "outputs": [],
   "source": [
    "pd.reset_option('display.max_rows', None)\n"
   ]
  },
  {
   "cell_type": "code",
   "execution_count": null,
   "id": "65b71769-a5f4-4428-9aca-30d95b7b2e7f",
   "metadata": {},
   "outputs": [],
   "source": []
  },
  {
   "cell_type": "markdown",
   "id": "2f43a9c9-7187-4088-984f-1d340baaa67b",
   "metadata": {},
   "source": [
    "<strong>Checking percentage of false values in boolean columns</strong>"
   ]
  },
  {
   "cell_type": "code",
   "execution_count": 11,
   "id": "87fa16a6-7a6d-43ec-96f2-564e53f681aa",
   "metadata": {},
   "outputs": [
    {
     "name": "stdout",
     "output_type": "stream",
     "text": [
      "False entries in Turning_Loop : 7728394  => 100.00\n",
      "False entries in Roundabout : 7728145  => 100.00\n",
      "False entries in Bump : 7724880  => 99.95\n",
      "False entries in Traffic_Calming : 7720796  => 99.90\n",
      "False entries in No_Exit : 7708849  => 99.75\n",
      "False entries in Give_Way : 7691812  => 99.53\n",
      "False entries in Railway : 7661415  => 99.13\n",
      "False entries in Amenity : 7632060  => 98.75\n",
      "False entries in Station : 7526493  => 97.39\n",
      "False entries in Stop : 7514023  => 97.23\n",
      "False entries in Junction : 7157052  => 92.61\n",
      "False entries in Crossing : 6854631  => 88.69\n",
      "False entries in Traffic_Signal : 6584622  => 85.20\n"
     ]
    }
   ],
   "source": [
    "bool_cols = ['Amenity', 'Bump', 'Crossing', 'Give_Way', 'Junction', 'No_Exit', \n",
    "        'Railway', 'Roundabout', 'Station', 'Stop', 'Traffic_Calming', \n",
    "        'Traffic_Signal', 'Turning_Loop']\n",
    "\n",
    "false_counts = (df[bool_cols] == False).sum().sort_values(ascending = False)\n",
    "\n",
    "\n",
    "for col, count in false_counts.items():\n",
    "    print(f\"False entries in {col} : {count}  => {(count/df.shape[0])*100:.2f}\")"
   ]
  },
  {
   "cell_type": "markdown",
   "id": "d02d50b7-a18d-4621-8ea6-042fb3486892",
   "metadata": {},
   "source": [
    "<strong>Since maximum values are false they do not impact the target variable</strong>"
   ]
  },
  {
   "cell_type": "code",
   "execution_count": 12,
   "id": "ad9a8c43-e75c-4e6a-9198-6025aee3ce79",
   "metadata": {},
   "outputs": [
    {
     "data": {
      "text/plain": [
       "7728394"
      ]
     },
     "execution_count": 12,
     "metadata": {},
     "output_type": "execute_result"
    }
   ],
   "source": [
    "df.shape[0]"
   ]
  },
  {
   "cell_type": "markdown",
   "id": "761ebeca-555d-45d9-8e49-7764688c963f",
   "metadata": {},
   "source": [
    "<h1>Data Cleaning and Feature Selection</h1>"
   ]
  },
  {
   "cell_type": "markdown",
   "id": "03ff0364-82aa-46fa-a03a-0f942cd67f2f",
   "metadata": {},
   "source": [
    "<strong> Dropping the boolean values which are not useful</strong>"
   ]
  },
  {
   "cell_type": "code",
   "execution_count": 13,
   "id": "ff892d70-2c80-4666-aee0-65271c5dcc9a",
   "metadata": {},
   "outputs": [],
   "source": [
    "#These boolean columns are almost completely false so they are not useful apart from last three 3 columsn \n",
    "\n",
    "\n",
    "df_bool_dropped = df.drop(['Amenity','Bump','Give_Way','No_Exit','Railway','Roundabout','Station','Stop','Traffic_Calming','Turning_Loop'],axis='columns')\n"
   ]
  },
  {
   "cell_type": "code",
   "execution_count": 14,
   "id": "02349b0f-a75f-441d-ad9a-9e7fa74d39e5",
   "metadata": {},
   "outputs": [
    {
     "data": {
      "text/plain": [
       "(7728394, 36)"
      ]
     },
     "execution_count": 14,
     "metadata": {},
     "output_type": "execute_result"
    }
   ],
   "source": [
    "df_bool_dropped.shape"
   ]
  },
  {
   "cell_type": "code",
   "execution_count": 15,
   "id": "299db7c1-17b0-44b5-80fa-b2adb5d18333",
   "metadata": {},
   "outputs": [
    {
     "data": {
      "text/plain": [
       "End_Lat                  44.029355\n",
       "End_Lng                  44.029355\n",
       "Precipitation(in)        28.512858\n",
       "Wind_Chill(F)            25.865904\n",
       "Wind_Speed(mph)           7.391355\n",
       "Visibility(mi)            2.291524\n",
       "Wind_Direction            2.267043\n",
       "Humidity(%)               2.253301\n",
       "Weather_Condition         2.244438\n",
       "Temperature(F)            2.120143\n",
       "Pressure(in)              1.820288\n",
       "Weather_Timestamp         1.555666\n",
       "Astronomical_Twilight     0.300787\n",
       "Nautical_Twilight         0.300787\n",
       "Civil_Twilight            0.300787\n",
       "Sunrise_Sunset            0.300787\n",
       "Airport_Code              0.292881\n",
       "Street                    0.140637\n",
       "Timezone                  0.101030\n",
       "Zipcode                   0.024779\n",
       "City                      0.003274\n",
       "Description               0.000065\n",
       "Crossing                  0.000000\n",
       "Severity                  0.000000\n",
       "Start_Time                0.000000\n",
       "End_Time                  0.000000\n",
       "Traffic_Signal            0.000000\n",
       "Junction                  0.000000\n",
       "Distance(mi)              0.000000\n",
       "Start_Lat                 0.000000\n",
       "Start_Lng                 0.000000\n",
       "Source                    0.000000\n",
       "County                    0.000000\n",
       "State                     0.000000\n",
       "Country                   0.000000\n",
       "ID                        0.000000\n",
       "dtype: float64"
      ]
     },
     "execution_count": 15,
     "metadata": {},
     "output_type": "execute_result"
    }
   ],
   "source": [
    "null_percentage = (df_bool_dropped.isnull().sum()/df_bool_dropped.shape[0]) * 100\n",
    "null_percentage.sort_values(ascending = False)"
   ]
  },
  {
   "cell_type": "code",
   "execution_count": 16,
   "id": "ab9b3baa-67b5-4189-95fd-35868c9402f4",
   "metadata": {},
   "outputs": [],
   "source": [
    "df_drop = df_bool_dropped.drop(['End_Lat','End_Lng'],axis = 'columns')"
   ]
  },
  {
   "cell_type": "code",
   "execution_count": 17,
   "id": "6cbc211a-4130-40c8-b99f-fc1e92703b68",
   "metadata": {},
   "outputs": [
    {
     "data": {
      "text/plain": [
       "(7728394, 34)"
      ]
     },
     "execution_count": 17,
     "metadata": {},
     "output_type": "execute_result"
    }
   ],
   "source": [
    "df_drop.shape"
   ]
  },
  {
   "cell_type": "markdown",
   "id": "49668aa7-01b7-41c1-8449-73da82579557",
   "metadata": {},
   "source": [
    "<strong>Converting Boolean columns into int so that it will be eaiser to segregate  numerical and categorical columns</strong>"
   ]
  },
  {
   "cell_type": "code",
   "execution_count": 18,
   "id": "d1ea0c12-377a-42f5-bb72-29d4d340c4b6",
   "metadata": {},
   "outputs": [],
   "source": [
    "bool_cols = ['Junction', 'Crossing', 'Traffic_Signal']\n",
    "df_drop[bool_cols] = df_drop[bool_cols].astype(int)\n"
   ]
  },
  {
   "cell_type": "markdown",
   "id": "714ce2df-d807-442b-b63d-73f2cfb3fb67",
   "metadata": {},
   "source": [
    "<strong>Number of unique data points in each column </strong>"
   ]
  },
  {
   "cell_type": "code",
   "execution_count": 19,
   "id": "74914a6a-a1ea-4ae9-b9b9-4e3054e151a6",
   "metadata": {},
   "outputs": [
    {
     "name": "stdout",
     "output_type": "stream",
     "text": [
      "Unique entries in ID : 7728394\n",
      "Unique entries in Source : 3\n",
      "Unique entries in Severity : 4\n",
      "Unique entries in Start_Time : 6131796\n",
      "Unique entries in End_Time : 6705355\n",
      "Unique entries in Start_Lat : 2428358\n",
      "Unique entries in Start_Lng : 2482533\n",
      "Unique entries in Distance(mi) : 22382\n",
      "Unique entries in Description : 3761578\n",
      "Unique entries in Street : 336306\n",
      "Unique entries in City : 13678\n",
      "Unique entries in County : 1871\n",
      "Unique entries in State : 49\n",
      "Unique entries in Zipcode : 825094\n",
      "Unique entries in Country : 1\n",
      "Unique entries in Timezone : 4\n",
      "Unique entries in Airport_Code : 2045\n",
      "Unique entries in Weather_Timestamp : 941331\n",
      "Unique entries in Temperature(F) : 860\n",
      "Unique entries in Wind_Chill(F) : 1001\n",
      "Unique entries in Humidity(%) : 100\n",
      "Unique entries in Pressure(in) : 1144\n",
      "Unique entries in Visibility(mi) : 92\n",
      "Unique entries in Wind_Direction : 24\n",
      "Unique entries in Wind_Speed(mph) : 184\n",
      "Unique entries in Precipitation(in) : 299\n",
      "Unique entries in Weather_Condition : 144\n",
      "Unique entries in Crossing : 2\n",
      "Unique entries in Junction : 2\n",
      "Unique entries in Traffic_Signal : 2\n",
      "Unique entries in Sunrise_Sunset : 2\n",
      "Unique entries in Civil_Twilight : 2\n",
      "Unique entries in Nautical_Twilight : 2\n",
      "Unique entries in Astronomical_Twilight : 2\n"
     ]
    }
   ],
   "source": [
    "for col in df_drop.columns:\n",
    "    unique_count = df_drop[col].nunique()\n",
    "    print(f\"Unique entries in {col} : {unique_count}\")\n"
   ]
  },
  {
   "cell_type": "markdown",
   "id": "60d20753-2a00-4c1e-acfc-54d550f66823",
   "metadata": {},
   "source": [
    "<strong>Since there is only one unique value in country it is not useful</strong>"
   ]
  },
  {
   "cell_type": "code",
   "execution_count": 20,
   "id": "1d1844ef-befd-4ede-a4e4-f8ace4bea898",
   "metadata": {},
   "outputs": [],
   "source": [
    "df_drop = df_drop.drop(['Country'],axis='columns')"
   ]
  },
  {
   "cell_type": "code",
   "execution_count": 21,
   "id": "b2009bf4-96d4-4d56-9f7a-a666023a3550",
   "metadata": {},
   "outputs": [
    {
     "data": {
      "text/plain": [
       "(7728394, 33)"
      ]
     },
     "execution_count": 21,
     "metadata": {},
     "output_type": "execute_result"
    }
   ],
   "source": [
    "df_drop.shape"
   ]
  },
  {
   "cell_type": "code",
   "execution_count": 22,
   "id": "ccf5995a-2ce1-4961-8514-ffe785b13231",
   "metadata": {},
   "outputs": [],
   "source": [
    "# its just the time when weather was recorded so not useful\n",
    "df_drop = df_drop.drop(['Weather_Timestamp'],axis='columns')"
   ]
  },
  {
   "cell_type": "code",
   "execution_count": 23,
   "id": "7fc980b8-31eb-477b-97c3-23d6cf2b62e2",
   "metadata": {},
   "outputs": [],
   "source": [
    "df_drop = df_drop.drop(['ID'],axis='columns')"
   ]
  },
  {
   "cell_type": "code",
   "execution_count": 24,
   "id": "a0339c71-267e-43ac-8e5b-9235b7052a6e",
   "metadata": {},
   "outputs": [
    {
     "data": {
      "text/plain": [
       "(7728394, 31)"
      ]
     },
     "execution_count": 24,
     "metadata": {},
     "output_type": "execute_result"
    }
   ],
   "source": [
    "df_drop.shape"
   ]
  },
  {
   "cell_type": "code",
   "execution_count": 25,
   "id": "dd712a28-c53f-4bb9-8782-8d7e79c1f48f",
   "metadata": {},
   "outputs": [
    {
     "data": {
      "text/plain": [
       "Index(['Source', 'Severity', 'Start_Time', 'End_Time', 'Start_Lat',\n",
       "       'Start_Lng', 'Distance(mi)', 'Description', 'Street', 'City', 'County',\n",
       "       'State', 'Zipcode', 'Timezone', 'Airport_Code', 'Temperature(F)',\n",
       "       'Wind_Chill(F)', 'Humidity(%)', 'Pressure(in)', 'Visibility(mi)',\n",
       "       'Wind_Direction', 'Wind_Speed(mph)', 'Precipitation(in)',\n",
       "       'Weather_Condition', 'Crossing', 'Junction', 'Traffic_Signal',\n",
       "       'Sunrise_Sunset', 'Civil_Twilight', 'Nautical_Twilight',\n",
       "       'Astronomical_Twilight'],\n",
       "      dtype='object')"
      ]
     },
     "execution_count": 25,
     "metadata": {},
     "output_type": "execute_result"
    }
   ],
   "source": [
    "df_drop.columns"
   ]
  },
  {
   "cell_type": "markdown",
   "id": "fdfe8cf7-b112-4fa2-a2a2-ca8fb367df01",
   "metadata": {},
   "source": [
    "<h2>Corelation Matrix</h2>"
   ]
  },
  {
   "cell_type": "code",
   "execution_count": 26,
   "id": "9e0a4b16-f9e4-4a23-a03a-42125c9cccce",
   "metadata": {},
   "outputs": [
    {
     "data": {
      "image/png": "[encoded data removed]",
      "text/plain": [
       "<Figure size 1000x600 with 2 Axes>"
      ]
     },
     "metadata": {},
     "output_type": "display_data"
    }
   ],
   "source": [
    "plt.figure(figsize=(10,6))\n",
    "corr_matrix = df_drop[['Severity', 'Start_Lat', 'Start_Lng', 'Distance(mi)', 'Temperature(F)', 'Wind_Chill(F)',\n",
    "                       'Humidity(%)', 'Pressure(in)', 'Visibility(mi)', 'Wind_Speed(mph)',\n",
    "                       'Precipitation(in)']].corr()\n",
    "sns.heatmap(corr_matrix, annot=True, cmap='coolwarm', fmt='.2f')\n",
    "plt.title('Correlation Matrix for Numerical Features')\n",
    "plt.show()"
   ]
  },
  {
   "cell_type": "markdown",
   "id": "1b6a6729-e4ed-4521-a60e-3cedff814c05",
   "metadata": {},
   "source": [
    "<strong>Insights from the corelation matrix: <ol><li>There's a very high positive correlation (0.99) between Temperature(F) and Wind_Chill(F) so using both the features would be redundant any one is sufficient  </li> <li>Start_Lat and Start_Lng exhibit very low correlations with Severity we can ommit them</li></ol><strong>"
   ]
  },
  {
   "cell_type": "code",
   "execution_count": 27,
   "id": "10f2dc41-3caa-4f07-9d33-2cd2ce3c706d",
   "metadata": {},
   "outputs": [
    {
     "data": {
      "text/plain": [
       "End_Lat                  44.029355\n",
       "End_Lng                  44.029355\n",
       "Precipitation(in)        28.512858\n",
       "Wind_Chill(F)            25.865904\n",
       "Wind_Speed(mph)           7.391355\n",
       "Visibility(mi)            2.291524\n",
       "Wind_Direction            2.267043\n",
       "Humidity(%)               2.253301\n",
       "Weather_Condition         2.244438\n",
       "Temperature(F)            2.120143\n",
       "Pressure(in)              1.820288\n",
       "Weather_Timestamp         1.555666\n",
       "Astronomical_Twilight     0.300787\n",
       "Nautical_Twilight         0.300787\n",
       "Civil_Twilight            0.300787\n",
       "Sunrise_Sunset            0.300787\n",
       "Airport_Code              0.292881\n",
       "Street                    0.140637\n",
       "Timezone                  0.101030\n",
       "Zipcode                   0.024779\n",
       "City                      0.003274\n",
       "Description               0.000065\n",
       "Crossing                  0.000000\n",
       "Severity                  0.000000\n",
       "Start_Time                0.000000\n",
       "End_Time                  0.000000\n",
       "Traffic_Signal            0.000000\n",
       "Junction                  0.000000\n",
       "Distance(mi)              0.000000\n",
       "Start_Lat                 0.000000\n",
       "Start_Lng                 0.000000\n",
       "Source                    0.000000\n",
       "County                    0.000000\n",
       "State                     0.000000\n",
       "Country                   0.000000\n",
       "ID                        0.000000\n",
       "dtype: float64"
      ]
     },
     "execution_count": 27,
     "metadata": {},
     "output_type": "execute_result"
    }
   ],
   "source": [
    "null_percentage = (df_bool_dropped.isnull().sum()/df_bool_dropped.shape[0]) * 100\n",
    "null_percentage.sort_values(ascending = False)"
   ]
  },
  {
   "cell_type": "markdown",
   "id": "03da8bd3-8706-42a2-b9bf-849a6886c1fa",
   "metadata": {},
   "source": [
    "<h2>Removing Outlier </h2>"
   ]
  },
  {
   "cell_type": "code",
   "execution_count": 28,
   "id": "c91c7d56-64bc-408b-9111-5b019761925a",
   "metadata": {},
   "outputs": [],
   "source": [
    "def remove_outliers_iqr(df, numeric_cols):\n",
    "\n",
    "    for col in numeric_cols:\n",
    "        q1 = df[col].quantile(0.25)\n",
    "        q3 = df[col].quantile(0.75)\n",
    "        iqr = q3 - q1\n",
    "        lower_bound = q1 - 1.5 * iqr\n",
    "        upper_bound = q3 + 1.5 * iqr\n",
    "        df = df[(df[col] >= lower_bound) & (df[col] <= upper_bound)]\n",
    "    return df"
   ]
  },
  {
   "cell_type": "code",
   "execution_count": 29,
   "id": "d1db3bf9-5015-4f60-b272-fd7e863b9264",
   "metadata": {},
   "outputs": [],
   "source": [
    "numeric_cols = [\"Precipitation(in)\", \"Wind_Speed(mph)\", \"Visibility(mi)\", \"Pressure(in)\",\n",
    "                \"Humidity(%)\", \"Wind_Chill(F)\", \"Temperature(F)\", \"Distance(mi)\", \"Start_Lng\", \"Start_Lat\"]\n",
    "\n",
    "df_drop = remove_outliers_iqr(df_drop, numeric_cols)"
   ]
  },
  {
   "cell_type": "markdown",
   "id": "3a342f43-fc90-4ce5-a090-784b7b9e0264",
   "metadata": {},
   "source": [
    "<strong> null values after removing outliers </strong>"
   ]
  },
  {
   "cell_type": "code",
   "execution_count": 30,
   "id": "c35c9909-e282-4ac8-a72f-3313fb96ed9f",
   "metadata": {},
   "outputs": [
    {
     "data": {
      "text/plain": [
       "Astronomical_Twilight    0.327472\n",
       "Sunrise_Sunset           0.327472\n",
       "Nautical_Twilight        0.327472\n",
       "Civil_Twilight           0.327472\n",
       "Street                   0.196378\n",
       "Weather_Condition        0.161843\n",
       "City                     0.003047\n",
       "Wind_Direction           0.000492\n",
       "Description              0.000092\n",
       "Traffic_Signal           0.000000\n",
       "Junction                 0.000000\n",
       "Humidity(%)              0.000000\n",
       "Crossing                 0.000000\n",
       "Precipitation(in)        0.000000\n",
       "Wind_Speed(mph)          0.000000\n",
       "Visibility(mi)           0.000000\n",
       "Pressure(in)             0.000000\n",
       "Source                   0.000000\n",
       "Wind_Chill(F)            0.000000\n",
       "Severity                 0.000000\n",
       "Airport_Code             0.000000\n",
       "Timezone                 0.000000\n",
       "Zipcode                  0.000000\n",
       "State                    0.000000\n",
       "County                   0.000000\n",
       "Distance(mi)             0.000000\n",
       "Start_Lng                0.000000\n",
       "Start_Lat                0.000000\n",
       "End_Time                 0.000000\n",
       "Start_Time               0.000000\n",
       "Temperature(F)           0.000000\n",
       "dtype: float64"
      ]
     },
     "execution_count": 30,
     "metadata": {},
     "output_type": "execute_result"
    }
   ],
   "source": [
    "null_percentage = (df_drop.isnull().sum()/df_drop.shape[0]) * 100\n",
    "null_percentage.sort_values(ascending = False)"
   ]
  },
  {
   "cell_type": "code",
   "execution_count": 31,
   "id": "2312502d-1025-479c-b711-45923a315606",
   "metadata": {},
   "outputs": [],
   "source": [
    "# for col in numeric_cols:\n",
    "#     df_drop[col] = df_drop[col].fillna(df_drop[col].mean())\n"
   ]
  },
  {
   "cell_type": "code",
   "execution_count": 32,
   "id": "d65d3748-a94f-47ef-8490-2de6c9ecd102",
   "metadata": {},
   "outputs": [
    {
     "data": {
      "text/plain": [
       "Precipitation(in)    0\n",
       "Wind_Speed(mph)      0\n",
       "Visibility(mi)       0\n",
       "Pressure(in)         0\n",
       "Humidity(%)          0\n",
       "Wind_Chill(F)        0\n",
       "Temperature(F)       0\n",
       "Distance(mi)         0\n",
       "Start_Lng            0\n",
       "Start_Lat            0\n",
       "dtype: int64"
      ]
     },
     "execution_count": 32,
     "metadata": {},
     "output_type": "execute_result"
    }
   ],
   "source": [
    "df_drop[numeric_cols].isnull().sum()"
   ]
  },
  {
   "cell_type": "markdown",
   "id": "2c31422b-dfa4-4480-992f-fd94e348bda9",
   "metadata": {},
   "source": [
    "<strong> splitting the datetime columns into multiple columns </strong>"
   ]
  },
  {
   "cell_type": "code",
   "execution_count": 33,
   "id": "57deb4ff-4c00-4e66-9dae-41503f988936",
   "metadata": {},
   "outputs": [],
   "source": [
    "df_drop['Start_Time'] = df_drop['Start_Time'].str.replace(r'\\.\\d+', '', regex=True)\n",
    "df_drop['End_Time'] = df_drop['End_Time'].str.replace(r'\\.\\d+', '', regex=True)"
   ]
  },
  {
   "cell_type": "code",
   "execution_count": 34,
   "id": "ab34d0ed-c72f-4e4f-8e35-9d8549ea0c46",
   "metadata": {},
   "outputs": [],
   "source": [
    "df_drop['Start_Time'] = pd.to_datetime(df_drop['Start_Time'], format='%Y-%m-%d %H:%M:%S', errors='coerce')\n",
    "df_drop['End_Time'] = pd.to_datetime(df_drop['End_Time'], format='%Y-%m-%d %H:%M:%S', errors='coerce')"
   ]
  },
  {
   "cell_type": "code",
   "execution_count": 35,
   "id": "b7e5622b-1a1c-434c-9e0f-be223f6a31e0",
   "metadata": {},
   "outputs": [],
   "source": [
    "df_drop['Year'] = df_drop['Start_Time'].dt.year\n",
    "df_drop['Month'] = df_drop['Start_Time'].dt.month\n",
    "df_drop['Day'] = df_drop['Start_Time'].dt.day\n",
    "df_drop['Time_S'] = df_drop['Start_Time'].dt.hour\n",
    "df_drop['Weekday'] = df_drop['Start_Time'].dt.weekday\n",
    "\n",
    "df_drop['Duration'] = (df_drop['End_Time'] - df_drop['Start_Time']).dt.total_seconds()"
   ]
  },
  {
   "cell_type": "code",
   "execution_count": 36,
   "id": "3c9029c3-d847-4d55-a17e-66d08206ac8a",
   "metadata": {},
   "outputs": [
    {
     "data": {
      "text/plain": [
       "Index(['Source', 'Severity', 'Start_Time', 'End_Time', 'Start_Lat',\n",
       "       'Start_Lng', 'Distance(mi)', 'Description', 'Street', 'City', 'County',\n",
       "       'State', 'Zipcode', 'Timezone', 'Airport_Code', 'Temperature(F)',\n",
       "       'Wind_Chill(F)', 'Humidity(%)', 'Pressure(in)', 'Visibility(mi)',\n",
       "       'Wind_Direction', 'Wind_Speed(mph)', 'Precipitation(in)',\n",
       "       'Weather_Condition', 'Crossing', 'Junction', 'Traffic_Signal',\n",
       "       'Sunrise_Sunset', 'Civil_Twilight', 'Nautical_Twilight',\n",
       "       'Astronomical_Twilight', 'Year', 'Month', 'Day', 'Time_S', 'Weekday',\n",
       "       'Duration'],\n",
       "      dtype='object')"
      ]
     },
     "execution_count": 36,
     "metadata": {},
     "output_type": "execute_result"
    }
   ],
   "source": [
    "df_drop.columns"
   ]
  },
  {
   "cell_type": "code",
   "execution_count": 37,
   "id": "3e113033-91b4-4933-83df-0f06a7086bdb",
   "metadata": {},
   "outputs": [
    {
     "data": {
      "text/plain": [
       "Index(['Source', 'Severity', 'Start_Lat', 'Start_Lng', 'Distance(mi)',\n",
       "       'Description', 'Street', 'City', 'County', 'State', 'Zipcode',\n",
       "       'Timezone', 'Airport_Code', 'Temperature(F)', 'Wind_Chill(F)',\n",
       "       'Humidity(%)', 'Pressure(in)', 'Visibility(mi)', 'Wind_Direction',\n",
       "       'Wind_Speed(mph)', 'Precipitation(in)', 'Weather_Condition', 'Crossing',\n",
       "       'Junction', 'Traffic_Signal', 'Sunrise_Sunset', 'Civil_Twilight',\n",
       "       'Nautical_Twilight', 'Astronomical_Twilight', 'Year', 'Month', 'Day',\n",
       "       'Time_S', 'Weekday', 'Duration'],\n",
       "      dtype='object')"
      ]
     },
     "execution_count": 37,
     "metadata": {},
     "output_type": "execute_result"
    }
   ],
   "source": [
    "df_drop = df_drop.drop(['Start_Time', 'End_Time'],axis='columns')\n",
    "df_drop.columns"
   ]
  },
  {
   "cell_type": "code",
   "execution_count": 38,
   "id": "41ac7f43-0373-402c-9022-0a153777592b",
   "metadata": {},
   "outputs": [
    {
     "data": {
      "text/html": [
       "<div>\n",
       "<style scoped>\n",
       "    .dataframe tbody tr th:only-of-type {\n",
       "        vertical-align: middle;\n",
       "    }\n",
       "\n",
       "    .dataframe tbody tr th {\n",
       "        vertical-align: top;\n",
       "    }\n",
       "\n",
       "    .dataframe thead th {\n",
       "        text-align: right;\n",
       "    }\n",
       "</style>\n",
       "<table border=\"1\" class=\"dataframe\">\n",
       "  <thead>\n",
       "    <tr style=\"text-align: right;\">\n",
       "      <th></th>\n",
       "      <th>Source</th>\n",
       "      <th>Severity</th>\n",
       "      <th>Start_Lat</th>\n",
       "      <th>Start_Lng</th>\n",
       "      <th>Distance(mi)</th>\n",
       "      <th>Description</th>\n",
       "      <th>Street</th>\n",
       "      <th>City</th>\n",
       "      <th>County</th>\n",
       "      <th>State</th>\n",
       "      <th>...</th>\n",
       "      <th>Sunrise_Sunset</th>\n",
       "      <th>Civil_Twilight</th>\n",
       "      <th>Nautical_Twilight</th>\n",
       "      <th>Astronomical_Twilight</th>\n",
       "      <th>Year</th>\n",
       "      <th>Month</th>\n",
       "      <th>Day</th>\n",
       "      <th>Time_S</th>\n",
       "      <th>Weekday</th>\n",
       "      <th>Duration</th>\n",
       "    </tr>\n",
       "  </thead>\n",
       "  <tbody>\n",
       "    <tr>\n",
       "      <th>27</th>\n",
       "      <td>Source2</td>\n",
       "      <td>2</td>\n",
       "      <td>39.775303</td>\n",
       "      <td>-84.200523</td>\n",
       "      <td>0.00</td>\n",
       "      <td>Accident on Helena St at OH-48 Main St.</td>\n",
       "      <td>W Helena St</td>\n",
       "      <td>Dayton</td>\n",
       "      <td>Montgomery</td>\n",
       "      <td>OH</td>\n",
       "      <td>...</td>\n",
       "      <td>Day</td>\n",
       "      <td>Day</td>\n",
       "      <td>Day</td>\n",
       "      <td>Day</td>\n",
       "      <td>2016</td>\n",
       "      <td>2</td>\n",
       "      <td>8</td>\n",
       "      <td>14</td>\n",
       "      <td>0</td>\n",
       "      <td>2700.0</td>\n",
       "    </tr>\n",
       "    <tr>\n",
       "      <th>30</th>\n",
       "      <td>Source2</td>\n",
       "      <td>2</td>\n",
       "      <td>40.081459</td>\n",
       "      <td>-83.122398</td>\n",
       "      <td>0.01</td>\n",
       "      <td>Accident on Frantz Rd Southbound at Bradenton ...</td>\n",
       "      <td>Frantz Rd</td>\n",
       "      <td>Dublin</td>\n",
       "      <td>Franklin</td>\n",
       "      <td>OH</td>\n",
       "      <td>...</td>\n",
       "      <td>Day</td>\n",
       "      <td>Day</td>\n",
       "      <td>Day</td>\n",
       "      <td>Day</td>\n",
       "      <td>2016</td>\n",
       "      <td>2</td>\n",
       "      <td>8</td>\n",
       "      <td>16</td>\n",
       "      <td>0</td>\n",
       "      <td>1800.0</td>\n",
       "    </tr>\n",
       "    <tr>\n",
       "      <th>363</th>\n",
       "      <td>Source2</td>\n",
       "      <td>2</td>\n",
       "      <td>38.581139</td>\n",
       "      <td>-82.004562</td>\n",
       "      <td>0.01</td>\n",
       "      <td>Accident on US-35 US Highway 35 Northbound at ...</td>\n",
       "      <td>US Highway 35</td>\n",
       "      <td>Fraziers Bottom</td>\n",
       "      <td>Putnam</td>\n",
       "      <td>WV</td>\n",
       "      <td>...</td>\n",
       "      <td>Day</td>\n",
       "      <td>Day</td>\n",
       "      <td>Day</td>\n",
       "      <td>Day</td>\n",
       "      <td>2016</td>\n",
       "      <td>2</td>\n",
       "      <td>24</td>\n",
       "      <td>7</td>\n",
       "      <td>2</td>\n",
       "      <td>2700.0</td>\n",
       "    </tr>\n",
       "    <tr>\n",
       "      <th>408</th>\n",
       "      <td>Source2</td>\n",
       "      <td>3</td>\n",
       "      <td>39.596703</td>\n",
       "      <td>-84.238388</td>\n",
       "      <td>0.01</td>\n",
       "      <td>Accident on I-75 Northbound at Exit 41 Austin ...</td>\n",
       "      <td>I-75 S</td>\n",
       "      <td>Miamisburg</td>\n",
       "      <td>Montgomery</td>\n",
       "      <td>OH</td>\n",
       "      <td>...</td>\n",
       "      <td>Day</td>\n",
       "      <td>Day</td>\n",
       "      <td>Day</td>\n",
       "      <td>Day</td>\n",
       "      <td>2016</td>\n",
       "      <td>2</td>\n",
       "      <td>29</td>\n",
       "      <td>7</td>\n",
       "      <td>0</td>\n",
       "      <td>1800.0</td>\n",
       "    </tr>\n",
       "    <tr>\n",
       "      <th>461</th>\n",
       "      <td>Source2</td>\n",
       "      <td>2</td>\n",
       "      <td>39.758556</td>\n",
       "      <td>-84.177246</td>\n",
       "      <td>0.01</td>\n",
       "      <td>Accident on 5th St at Keowee St.</td>\n",
       "      <td>S Keowee St</td>\n",
       "      <td>Dayton</td>\n",
       "      <td>Montgomery</td>\n",
       "      <td>OH</td>\n",
       "      <td>...</td>\n",
       "      <td>Day</td>\n",
       "      <td>Day</td>\n",
       "      <td>Day</td>\n",
       "      <td>Day</td>\n",
       "      <td>2016</td>\n",
       "      <td>3</td>\n",
       "      <td>3</td>\n",
       "      <td>9</td>\n",
       "      <td>3</td>\n",
       "      <td>1800.0</td>\n",
       "    </tr>\n",
       "    <tr>\n",
       "      <th>590</th>\n",
       "      <td>Source2</td>\n",
       "      <td>2</td>\n",
       "      <td>38.843636</td>\n",
       "      <td>-82.216187</td>\n",
       "      <td>0.00</td>\n",
       "      <td>Accident on Hazel St at Circle Dr.</td>\n",
       "      <td>Circle Dr</td>\n",
       "      <td>Gallipolis</td>\n",
       "      <td>Gallia</td>\n",
       "      <td>OH</td>\n",
       "      <td>...</td>\n",
       "      <td>Day</td>\n",
       "      <td>Day</td>\n",
       "      <td>Day</td>\n",
       "      <td>Day</td>\n",
       "      <td>2016</td>\n",
       "      <td>3</td>\n",
       "      <td>10</td>\n",
       "      <td>15</td>\n",
       "      <td>3</td>\n",
       "      <td>1800.0</td>\n",
       "    </tr>\n",
       "    <tr>\n",
       "      <th>6040</th>\n",
       "      <td>Source2</td>\n",
       "      <td>2</td>\n",
       "      <td>38.510437</td>\n",
       "      <td>-121.464523</td>\n",
       "      <td>0.01</td>\n",
       "      <td>Slow traffic due to accident on 47th Ave Westb...</td>\n",
       "      <td>47th Ave</td>\n",
       "      <td>Sacramento</td>\n",
       "      <td>Sacramento</td>\n",
       "      <td>CA</td>\n",
       "      <td>...</td>\n",
       "      <td>Day</td>\n",
       "      <td>Day</td>\n",
       "      <td>Day</td>\n",
       "      <td>Day</td>\n",
       "      <td>2016</td>\n",
       "      <td>12</td>\n",
       "      <td>7</td>\n",
       "      <td>16</td>\n",
       "      <td>2</td>\n",
       "      <td>1754.0</td>\n",
       "    </tr>\n",
       "    <tr>\n",
       "      <th>6044</th>\n",
       "      <td>Source2</td>\n",
       "      <td>2</td>\n",
       "      <td>38.676666</td>\n",
       "      <td>-121.638069</td>\n",
       "      <td>0.01</td>\n",
       "      <td>Accident on County Hwy-22 Old River Rd Westbou...</td>\n",
       "      <td>County Road 22</td>\n",
       "      <td>West Sacramento</td>\n",
       "      <td>Yolo</td>\n",
       "      <td>CA</td>\n",
       "      <td>...</td>\n",
       "      <td>Night</td>\n",
       "      <td>Day</td>\n",
       "      <td>Day</td>\n",
       "      <td>Day</td>\n",
       "      <td>2016</td>\n",
       "      <td>12</td>\n",
       "      <td>7</td>\n",
       "      <td>16</td>\n",
       "      <td>2</td>\n",
       "      <td>1778.0</td>\n",
       "    </tr>\n",
       "    <tr>\n",
       "      <th>6051</th>\n",
       "      <td>Source2</td>\n",
       "      <td>2</td>\n",
       "      <td>38.538242</td>\n",
       "      <td>-121.473648</td>\n",
       "      <td>0.01</td>\n",
       "      <td>Shoulder blocked on exit ramp due to accident ...</td>\n",
       "      <td>CA-99 N</td>\n",
       "      <td>Sacramento</td>\n",
       "      <td>Sacramento</td>\n",
       "      <td>CA</td>\n",
       "      <td>...</td>\n",
       "      <td>Night</td>\n",
       "      <td>Night</td>\n",
       "      <td>Day</td>\n",
       "      <td>Day</td>\n",
       "      <td>2016</td>\n",
       "      <td>12</td>\n",
       "      <td>7</td>\n",
       "      <td>17</td>\n",
       "      <td>2</td>\n",
       "      <td>2681.0</td>\n",
       "    </tr>\n",
       "    <tr>\n",
       "      <th>6052</th>\n",
       "      <td>Source2</td>\n",
       "      <td>2</td>\n",
       "      <td>38.496086</td>\n",
       "      <td>-121.419502</td>\n",
       "      <td>0.01</td>\n",
       "      <td>Accident on Florin Rd Westbound at Rimrock Dr.</td>\n",
       "      <td>Rimrock Dr</td>\n",
       "      <td>Sacramento</td>\n",
       "      <td>Sacramento</td>\n",
       "      <td>CA</td>\n",
       "      <td>...</td>\n",
       "      <td>Night</td>\n",
       "      <td>Night</td>\n",
       "      <td>Night</td>\n",
       "      <td>Day</td>\n",
       "      <td>2016</td>\n",
       "      <td>12</td>\n",
       "      <td>7</td>\n",
       "      <td>18</td>\n",
       "      <td>2</td>\n",
       "      <td>2684.0</td>\n",
       "    </tr>\n",
       "    <tr>\n",
       "      <th>6063</th>\n",
       "      <td>Source2</td>\n",
       "      <td>2</td>\n",
       "      <td>37.752377</td>\n",
       "      <td>-121.773773</td>\n",
       "      <td>0.00</td>\n",
       "      <td>Accident on Manning Rd at Morgan Territory Rd.</td>\n",
       "      <td>Manning Rd</td>\n",
       "      <td>Livermore</td>\n",
       "      <td>Alameda</td>\n",
       "      <td>CA</td>\n",
       "      <td>...</td>\n",
       "      <td>Night</td>\n",
       "      <td>Night</td>\n",
       "      <td>Night</td>\n",
       "      <td>Night</td>\n",
       "      <td>2016</td>\n",
       "      <td>12</td>\n",
       "      <td>7</td>\n",
       "      <td>19</td>\n",
       "      <td>2</td>\n",
       "      <td>1782.0</td>\n",
       "    </tr>\n",
       "    <tr>\n",
       "      <th>7537</th>\n",
       "      <td>Source2</td>\n",
       "      <td>2</td>\n",
       "      <td>38.003071</td>\n",
       "      <td>-121.337051</td>\n",
       "      <td>0.00</td>\n",
       "      <td>Accident on Polk Way both ways at Williamsburg...</td>\n",
       "      <td>Williamsburg Pl</td>\n",
       "      <td>Stockton</td>\n",
       "      <td>San Joaquin</td>\n",
       "      <td>CA</td>\n",
       "      <td>...</td>\n",
       "      <td>Day</td>\n",
       "      <td>Day</td>\n",
       "      <td>Day</td>\n",
       "      <td>Day</td>\n",
       "      <td>2016</td>\n",
       "      <td>12</td>\n",
       "      <td>17</td>\n",
       "      <td>9</td>\n",
       "      <td>5</td>\n",
       "      <td>1778.0</td>\n",
       "    </tr>\n",
       "    <tr>\n",
       "      <th>8456</th>\n",
       "      <td>Source2</td>\n",
       "      <td>3</td>\n",
       "      <td>37.703022</td>\n",
       "      <td>-121.923431</td>\n",
       "      <td>0.01</td>\n",
       "      <td>Slow lane blocked due to accident on I-580 Eas...</td>\n",
       "      <td>I-680 N</td>\n",
       "      <td>Dublin</td>\n",
       "      <td>Alameda</td>\n",
       "      <td>CA</td>\n",
       "      <td>...</td>\n",
       "      <td>Night</td>\n",
       "      <td>Night</td>\n",
       "      <td>Night</td>\n",
       "      <td>Night</td>\n",
       "      <td>2016</td>\n",
       "      <td>12</td>\n",
       "      <td>23</td>\n",
       "      <td>19</td>\n",
       "      <td>4</td>\n",
       "      <td>1780.0</td>\n",
       "    </tr>\n",
       "    <tr>\n",
       "      <th>8504</th>\n",
       "      <td>Source2</td>\n",
       "      <td>2</td>\n",
       "      <td>36.645508</td>\n",
       "      <td>-121.817154</td>\n",
       "      <td>0.01</td>\n",
       "      <td>Accident on CA-1 Northbound at Exit 406 Light ...</td>\n",
       "      <td>Cabrillo Hwy N</td>\n",
       "      <td>Seaside</td>\n",
       "      <td>Monterey</td>\n",
       "      <td>CA</td>\n",
       "      <td>...</td>\n",
       "      <td>Night</td>\n",
       "      <td>Night</td>\n",
       "      <td>Night</td>\n",
       "      <td>Night</td>\n",
       "      <td>2016</td>\n",
       "      <td>12</td>\n",
       "      <td>23</td>\n",
       "      <td>23</td>\n",
       "      <td>4</td>\n",
       "      <td>1775.0</td>\n",
       "    </tr>\n",
       "    <tr>\n",
       "      <th>8550</th>\n",
       "      <td>Source2</td>\n",
       "      <td>3</td>\n",
       "      <td>37.811298</td>\n",
       "      <td>-121.992989</td>\n",
       "      <td>0.01</td>\n",
       "      <td>Accident on I-680 Southbound at Exit 38 Sycamo...</td>\n",
       "      <td>Sycamore Valley Rd</td>\n",
       "      <td>Danville</td>\n",
       "      <td>Contra Costa</td>\n",
       "      <td>CA</td>\n",
       "      <td>...</td>\n",
       "      <td>Night</td>\n",
       "      <td>Night</td>\n",
       "      <td>Night</td>\n",
       "      <td>Night</td>\n",
       "      <td>2016</td>\n",
       "      <td>12</td>\n",
       "      <td>24</td>\n",
       "      <td>23</td>\n",
       "      <td>5</td>\n",
       "      <td>1778.0</td>\n",
       "    </tr>\n",
       "    <tr>\n",
       "      <th>8774</th>\n",
       "      <td>Source2</td>\n",
       "      <td>2</td>\n",
       "      <td>37.892872</td>\n",
       "      <td>-122.125000</td>\n",
       "      <td>0.01</td>\n",
       "      <td>1st &amp;amp; 2nd lane blocked due to accident on ...</td>\n",
       "      <td>CA-24 E</td>\n",
       "      <td>Lafayette</td>\n",
       "      <td>Contra Costa</td>\n",
       "      <td>CA</td>\n",
       "      <td>...</td>\n",
       "      <td>Night</td>\n",
       "      <td>Night</td>\n",
       "      <td>Night</td>\n",
       "      <td>Night</td>\n",
       "      <td>2016</td>\n",
       "      <td>12</td>\n",
       "      <td>27</td>\n",
       "      <td>21</td>\n",
       "      <td>1</td>\n",
       "      <td>1756.0</td>\n",
       "    </tr>\n",
       "    <tr>\n",
       "      <th>9165</th>\n",
       "      <td>Source2</td>\n",
       "      <td>3</td>\n",
       "      <td>38.529530</td>\n",
       "      <td>-121.518105</td>\n",
       "      <td>0.01</td>\n",
       "      <td>Right hand shoulder closed due to accident on ...</td>\n",
       "      <td>I-5 N</td>\n",
       "      <td>Sacramento</td>\n",
       "      <td>Sacramento</td>\n",
       "      <td>CA</td>\n",
       "      <td>...</td>\n",
       "      <td>Day</td>\n",
       "      <td>Day</td>\n",
       "      <td>Day</td>\n",
       "      <td>Day</td>\n",
       "      <td>2016</td>\n",
       "      <td>12</td>\n",
       "      <td>31</td>\n",
       "      <td>10</td>\n",
       "      <td>5</td>\n",
       "      <td>2688.0</td>\n",
       "    </tr>\n",
       "    <tr>\n",
       "      <th>9321</th>\n",
       "      <td>Source2</td>\n",
       "      <td>2</td>\n",
       "      <td>37.060234</td>\n",
       "      <td>-122.004921</td>\n",
       "      <td>0.01</td>\n",
       "      <td>Accident on CA-17 Northbound at Exit 5 Scotts ...</td>\n",
       "      <td>CA-17 N</td>\n",
       "      <td>Scotts Valley</td>\n",
       "      <td>Santa Cruz</td>\n",
       "      <td>CA</td>\n",
       "      <td>...</td>\n",
       "      <td>Night</td>\n",
       "      <td>Night</td>\n",
       "      <td>Night</td>\n",
       "      <td>Night</td>\n",
       "      <td>2017</td>\n",
       "      <td>1</td>\n",
       "      <td>2</td>\n",
       "      <td>22</td>\n",
       "      <td>0</td>\n",
       "      <td>2674.0</td>\n",
       "    </tr>\n",
       "    <tr>\n",
       "      <th>9356</th>\n",
       "      <td>Source2</td>\n",
       "      <td>3</td>\n",
       "      <td>37.770020</td>\n",
       "      <td>-121.328255</td>\n",
       "      <td>0.01</td>\n",
       "      <td>#2 lane blocked due to accident on I-5 Southbo...</td>\n",
       "      <td>I-5</td>\n",
       "      <td>Tracy</td>\n",
       "      <td>San Joaquin</td>\n",
       "      <td>CA</td>\n",
       "      <td>...</td>\n",
       "      <td>Day</td>\n",
       "      <td>Day</td>\n",
       "      <td>Day</td>\n",
       "      <td>Day</td>\n",
       "      <td>2017</td>\n",
       "      <td>1</td>\n",
       "      <td>3</td>\n",
       "      <td>8</td>\n",
       "      <td>1</td>\n",
       "      <td>1757.0</td>\n",
       "    </tr>\n",
       "    <tr>\n",
       "      <th>9748</th>\n",
       "      <td>Source2</td>\n",
       "      <td>2</td>\n",
       "      <td>37.993542</td>\n",
       "      <td>-122.104637</td>\n",
       "      <td>0.01</td>\n",
       "      <td>Lane blocked on entry ramp due to accident on ...</td>\n",
       "      <td>CA-4 W</td>\n",
       "      <td>Martinez</td>\n",
       "      <td>Contra Costa</td>\n",
       "      <td>CA</td>\n",
       "      <td>...</td>\n",
       "      <td>Day</td>\n",
       "      <td>Day</td>\n",
       "      <td>Day</td>\n",
       "      <td>Day</td>\n",
       "      <td>2017</td>\n",
       "      <td>1</td>\n",
       "      <td>5</td>\n",
       "      <td>7</td>\n",
       "      <td>3</td>\n",
       "      <td>2587.0</td>\n",
       "    </tr>\n",
       "    <tr>\n",
       "      <th>10064</th>\n",
       "      <td>Source2</td>\n",
       "      <td>2</td>\n",
       "      <td>37.891811</td>\n",
       "      <td>-122.154419</td>\n",
       "      <td>0.01</td>\n",
       "      <td>Accident on CA-24 Eastbound at Exit 11 Acalane...</td>\n",
       "      <td>CA-24 E</td>\n",
       "      <td>Lafayette</td>\n",
       "      <td>Contra Costa</td>\n",
       "      <td>CA</td>\n",
       "      <td>...</td>\n",
       "      <td>Night</td>\n",
       "      <td>Night</td>\n",
       "      <td>Night</td>\n",
       "      <td>Night</td>\n",
       "      <td>2017</td>\n",
       "      <td>1</td>\n",
       "      <td>6</td>\n",
       "      <td>21</td>\n",
       "      <td>4</td>\n",
       "      <td>1767.0</td>\n",
       "    </tr>\n",
       "    <tr>\n",
       "      <th>10086</th>\n",
       "      <td>Source2</td>\n",
       "      <td>3</td>\n",
       "      <td>37.511719</td>\n",
       "      <td>-121.938194</td>\n",
       "      <td>0.01</td>\n",
       "      <td>Accident on I-680 Southbound at Exit 14 Auto M...</td>\n",
       "      <td>I-680 S</td>\n",
       "      <td>Fremont</td>\n",
       "      <td>Alameda</td>\n",
       "      <td>CA</td>\n",
       "      <td>...</td>\n",
       "      <td>Night</td>\n",
       "      <td>Night</td>\n",
       "      <td>Night</td>\n",
       "      <td>Night</td>\n",
       "      <td>2017</td>\n",
       "      <td>1</td>\n",
       "      <td>6</td>\n",
       "      <td>23</td>\n",
       "      <td>4</td>\n",
       "      <td>1777.0</td>\n",
       "    </tr>\n",
       "    <tr>\n",
       "      <th>10846</th>\n",
       "      <td>Source2</td>\n",
       "      <td>3</td>\n",
       "      <td>38.280140</td>\n",
       "      <td>-121.457268</td>\n",
       "      <td>0.01</td>\n",
       "      <td>Right hand shoulder blocked due to accident on...</td>\n",
       "      <td>I-5 S</td>\n",
       "      <td>Elk Grove</td>\n",
       "      <td>Sacramento</td>\n",
       "      <td>CA</td>\n",
       "      <td>...</td>\n",
       "      <td>Night</td>\n",
       "      <td>Day</td>\n",
       "      <td>Day</td>\n",
       "      <td>Day</td>\n",
       "      <td>2017</td>\n",
       "      <td>1</td>\n",
       "      <td>12</td>\n",
       "      <td>7</td>\n",
       "      <td>3</td>\n",
       "      <td>2675.0</td>\n",
       "    </tr>\n",
       "    <tr>\n",
       "      <th>11108</th>\n",
       "      <td>Source2</td>\n",
       "      <td>2</td>\n",
       "      <td>37.933460</td>\n",
       "      <td>-122.331619</td>\n",
       "      <td>0.01</td>\n",
       "      <td>Accident on 40th St at MacDonald Ave.</td>\n",
       "      <td>MacDonald Ave</td>\n",
       "      <td>Richmond</td>\n",
       "      <td>Contra Costa</td>\n",
       "      <td>CA</td>\n",
       "      <td>...</td>\n",
       "      <td>Night</td>\n",
       "      <td>Night</td>\n",
       "      <td>Night</td>\n",
       "      <td>Night</td>\n",
       "      <td>2017</td>\n",
       "      <td>1</td>\n",
       "      <td>13</td>\n",
       "      <td>23</td>\n",
       "      <td>4</td>\n",
       "      <td>1771.0</td>\n",
       "    </tr>\n",
       "    <tr>\n",
       "      <th>12075</th>\n",
       "      <td>Source2</td>\n",
       "      <td>2</td>\n",
       "      <td>37.773094</td>\n",
       "      <td>-120.996033</td>\n",
       "      <td>0.01</td>\n",
       "      <td>Accident on County Hwy-J6 McHenry Ave near Jon...</td>\n",
       "      <td>Jones Rd</td>\n",
       "      <td>Escalon</td>\n",
       "      <td>San Joaquin</td>\n",
       "      <td>CA</td>\n",
       "      <td>...</td>\n",
       "      <td>Night</td>\n",
       "      <td>Night</td>\n",
       "      <td>Night</td>\n",
       "      <td>Night</td>\n",
       "      <td>2017</td>\n",
       "      <td>1</td>\n",
       "      <td>20</td>\n",
       "      <td>22</td>\n",
       "      <td>4</td>\n",
       "      <td>2679.0</td>\n",
       "    </tr>\n",
       "    <tr>\n",
       "      <th>12090</th>\n",
       "      <td>Source2</td>\n",
       "      <td>2</td>\n",
       "      <td>37.143429</td>\n",
       "      <td>-121.984901</td>\n",
       "      <td>0.01</td>\n",
       "      <td>Accident on CA-17 Santa Cruz Hwy at CA-17 Sant...</td>\n",
       "      <td>Santa Cruz Hwy</td>\n",
       "      <td>Los Gatos</td>\n",
       "      <td>Santa Cruz</td>\n",
       "      <td>CA</td>\n",
       "      <td>...</td>\n",
       "      <td>Night</td>\n",
       "      <td>Night</td>\n",
       "      <td>Night</td>\n",
       "      <td>Night</td>\n",
       "      <td>2017</td>\n",
       "      <td>1</td>\n",
       "      <td>21</td>\n",
       "      <td>4</td>\n",
       "      <td>5</td>\n",
       "      <td>1792.0</td>\n",
       "    </tr>\n",
       "    <tr>\n",
       "      <th>12097</th>\n",
       "      <td>Source2</td>\n",
       "      <td>2</td>\n",
       "      <td>36.983547</td>\n",
       "      <td>-121.935989</td>\n",
       "      <td>0.00</td>\n",
       "      <td>Accident on McGregor Dr in Santa Cruz.</td>\n",
       "      <td>McGregor Dr</td>\n",
       "      <td>Aptos</td>\n",
       "      <td>Santa Cruz</td>\n",
       "      <td>CA</td>\n",
       "      <td>...</td>\n",
       "      <td>Night</td>\n",
       "      <td>Night</td>\n",
       "      <td>Night</td>\n",
       "      <td>Day</td>\n",
       "      <td>2017</td>\n",
       "      <td>1</td>\n",
       "      <td>21</td>\n",
       "      <td>5</td>\n",
       "      <td>5</td>\n",
       "      <td>1787.0</td>\n",
       "    </tr>\n",
       "    <tr>\n",
       "      <th>12098</th>\n",
       "      <td>Source2</td>\n",
       "      <td>2</td>\n",
       "      <td>36.979347</td>\n",
       "      <td>-121.908798</td>\n",
       "      <td>0.00</td>\n",
       "      <td>Accident on Rancho del Mar in Santa Cruz.</td>\n",
       "      <td>Rancho del Mar</td>\n",
       "      <td>Aptos</td>\n",
       "      <td>Santa Cruz</td>\n",
       "      <td>CA</td>\n",
       "      <td>...</td>\n",
       "      <td>Night</td>\n",
       "      <td>Night</td>\n",
       "      <td>Night</td>\n",
       "      <td>Day</td>\n",
       "      <td>2017</td>\n",
       "      <td>1</td>\n",
       "      <td>21</td>\n",
       "      <td>5</td>\n",
       "      <td>5</td>\n",
       "      <td>1785.0</td>\n",
       "    </tr>\n",
       "    <tr>\n",
       "      <th>12105</th>\n",
       "      <td>Source2</td>\n",
       "      <td>3</td>\n",
       "      <td>37.909599</td>\n",
       "      <td>-121.288193</td>\n",
       "      <td>0.01</td>\n",
       "      <td>Accident on I-5 Northbound at Exit 469 Downing...</td>\n",
       "      <td>I-5 N</td>\n",
       "      <td>Stockton</td>\n",
       "      <td>San Joaquin</td>\n",
       "      <td>CA</td>\n",
       "      <td>...</td>\n",
       "      <td>Day</td>\n",
       "      <td>Day</td>\n",
       "      <td>Day</td>\n",
       "      <td>Day</td>\n",
       "      <td>2017</td>\n",
       "      <td>1</td>\n",
       "      <td>21</td>\n",
       "      <td>7</td>\n",
       "      <td>5</td>\n",
       "      <td>1783.0</td>\n",
       "    </tr>\n",
       "    <tr>\n",
       "      <th>12106</th>\n",
       "      <td>Source2</td>\n",
       "      <td>2</td>\n",
       "      <td>37.536625</td>\n",
       "      <td>-120.757187</td>\n",
       "      <td>0.00</td>\n",
       "      <td>Accident on Hickman Rd Northbound at Taylor Rd.</td>\n",
       "      <td>E Taylor Rd</td>\n",
       "      <td>Denair</td>\n",
       "      <td>Stanislaus</td>\n",
       "      <td>CA</td>\n",
       "      <td>...</td>\n",
       "      <td>Day</td>\n",
       "      <td>Day</td>\n",
       "      <td>Day</td>\n",
       "      <td>Day</td>\n",
       "      <td>2017</td>\n",
       "      <td>1</td>\n",
       "      <td>21</td>\n",
       "      <td>7</td>\n",
       "      <td>5</td>\n",
       "      <td>1784.0</td>\n",
       "    </tr>\n",
       "  </tbody>\n",
       "</table>\n",
       "<p>30 rows × 35 columns</p>\n",
       "</div>"
      ],
      "text/plain": [
       "        Source  Severity  Start_Lat   Start_Lng  Distance(mi)  \\\n",
       "27     Source2         2  39.775303  -84.200523          0.00   \n",
       "30     Source2         2  40.081459  -83.122398          0.01   \n",
       "363    Source2         2  38.581139  -82.004562          0.01   \n",
       "408    Source2         3  39.596703  -84.238388          0.01   \n",
       "461    Source2         2  39.758556  -84.177246          0.01   \n",
       "590    Source2         2  38.843636  -82.216187          0.00   \n",
       "6040   Source2         2  38.510437 -121.464523          0.01   \n",
       "6044   Source2         2  38.676666 -121.638069          0.01   \n",
       "6051   Source2         2  38.538242 -121.473648          0.01   \n",
       "6052   Source2         2  38.496086 -121.419502          0.01   \n",
       "6063   Source2         2  37.752377 -121.773773          0.00   \n",
       "7537   Source2         2  38.003071 -121.337051          0.00   \n",
       "8456   Source2         3  37.703022 -121.923431          0.01   \n",
       "8504   Source2         2  36.645508 -121.817154          0.01   \n",
       "8550   Source2         3  37.811298 -121.992989          0.01   \n",
       "8774   Source2         2  37.892872 -122.125000          0.01   \n",
       "9165   Source2         3  38.529530 -121.518105          0.01   \n",
       "9321   Source2         2  37.060234 -122.004921          0.01   \n",
       "9356   Source2         3  37.770020 -121.328255          0.01   \n",
       "9748   Source2         2  37.993542 -122.104637          0.01   \n",
       "10064  Source2         2  37.891811 -122.154419          0.01   \n",
       "10086  Source2         3  37.511719 -121.938194          0.01   \n",
       "10846  Source2         3  38.280140 -121.457268          0.01   \n",
       "11108  Source2         2  37.933460 -122.331619          0.01   \n",
       "12075  Source2         2  37.773094 -120.996033          0.01   \n",
       "12090  Source2         2  37.143429 -121.984901          0.01   \n",
       "12097  Source2         2  36.983547 -121.935989          0.00   \n",
       "12098  Source2         2  36.979347 -121.908798          0.00   \n",
       "12105  Source2         3  37.909599 -121.288193          0.01   \n",
       "12106  Source2         2  37.536625 -120.757187          0.00   \n",
       "\n",
       "                                             Description              Street  \\\n",
       "27               Accident on Helena St at OH-48 Main St.         W Helena St   \n",
       "30     Accident on Frantz Rd Southbound at Bradenton ...           Frantz Rd   \n",
       "363    Accident on US-35 US Highway 35 Northbound at ...       US Highway 35   \n",
       "408    Accident on I-75 Northbound at Exit 41 Austin ...              I-75 S   \n",
       "461                     Accident on 5th St at Keowee St.         S Keowee St   \n",
       "590                   Accident on Hazel St at Circle Dr.           Circle Dr   \n",
       "6040   Slow traffic due to accident on 47th Ave Westb...            47th Ave   \n",
       "6044   Accident on County Hwy-22 Old River Rd Westbou...      County Road 22   \n",
       "6051   Shoulder blocked on exit ramp due to accident ...             CA-99 N   \n",
       "6052      Accident on Florin Rd Westbound at Rimrock Dr.          Rimrock Dr   \n",
       "6063      Accident on Manning Rd at Morgan Territory Rd.          Manning Rd   \n",
       "7537   Accident on Polk Way both ways at Williamsburg...     Williamsburg Pl   \n",
       "8456   Slow lane blocked due to accident on I-580 Eas...             I-680 N   \n",
       "8504   Accident on CA-1 Northbound at Exit 406 Light ...      Cabrillo Hwy N   \n",
       "8550   Accident on I-680 Southbound at Exit 38 Sycamo...  Sycamore Valley Rd   \n",
       "8774   1st &amp; 2nd lane blocked due to accident on ...             CA-24 E   \n",
       "9165   Right hand shoulder closed due to accident on ...               I-5 N   \n",
       "9321   Accident on CA-17 Northbound at Exit 5 Scotts ...             CA-17 N   \n",
       "9356   #2 lane blocked due to accident on I-5 Southbo...                 I-5   \n",
       "9748   Lane blocked on entry ramp due to accident on ...              CA-4 W   \n",
       "10064  Accident on CA-24 Eastbound at Exit 11 Acalane...             CA-24 E   \n",
       "10086  Accident on I-680 Southbound at Exit 14 Auto M...             I-680 S   \n",
       "10846  Right hand shoulder blocked due to accident on...               I-5 S   \n",
       "11108              Accident on 40th St at MacDonald Ave.       MacDonald Ave   \n",
       "12075  Accident on County Hwy-J6 McHenry Ave near Jon...            Jones Rd   \n",
       "12090  Accident on CA-17 Santa Cruz Hwy at CA-17 Sant...      Santa Cruz Hwy   \n",
       "12097             Accident on McGregor Dr in Santa Cruz.         McGregor Dr   \n",
       "12098          Accident on Rancho del Mar in Santa Cruz.      Rancho del Mar   \n",
       "12105  Accident on I-5 Northbound at Exit 469 Downing...               I-5 N   \n",
       "12106    Accident on Hickman Rd Northbound at Taylor Rd.         E Taylor Rd   \n",
       "\n",
       "                  City        County State  ... Sunrise_Sunset Civil_Twilight  \\\n",
       "27              Dayton    Montgomery    OH  ...            Day            Day   \n",
       "30              Dublin      Franklin    OH  ...            Day            Day   \n",
       "363    Fraziers Bottom        Putnam    WV  ...            Day            Day   \n",
       "408         Miamisburg    Montgomery    OH  ...            Day            Day   \n",
       "461             Dayton    Montgomery    OH  ...            Day            Day   \n",
       "590         Gallipolis        Gallia    OH  ...            Day            Day   \n",
       "6040        Sacramento    Sacramento    CA  ...            Day            Day   \n",
       "6044   West Sacramento          Yolo    CA  ...          Night            Day   \n",
       "6051        Sacramento    Sacramento    CA  ...          Night          Night   \n",
       "6052        Sacramento    Sacramento    CA  ...          Night          Night   \n",
       "6063         Livermore       Alameda    CA  ...          Night          Night   \n",
       "7537          Stockton   San Joaquin    CA  ...            Day            Day   \n",
       "8456            Dublin       Alameda    CA  ...          Night          Night   \n",
       "8504           Seaside      Monterey    CA  ...          Night          Night   \n",
       "8550          Danville  Contra Costa    CA  ...          Night          Night   \n",
       "8774         Lafayette  Contra Costa    CA  ...          Night          Night   \n",
       "9165        Sacramento    Sacramento    CA  ...            Day            Day   \n",
       "9321     Scotts Valley    Santa Cruz    CA  ...          Night          Night   \n",
       "9356             Tracy   San Joaquin    CA  ...            Day            Day   \n",
       "9748          Martinez  Contra Costa    CA  ...            Day            Day   \n",
       "10064        Lafayette  Contra Costa    CA  ...          Night          Night   \n",
       "10086          Fremont       Alameda    CA  ...          Night          Night   \n",
       "10846        Elk Grove    Sacramento    CA  ...          Night            Day   \n",
       "11108         Richmond  Contra Costa    CA  ...          Night          Night   \n",
       "12075          Escalon   San Joaquin    CA  ...          Night          Night   \n",
       "12090        Los Gatos    Santa Cruz    CA  ...          Night          Night   \n",
       "12097            Aptos    Santa Cruz    CA  ...          Night          Night   \n",
       "12098            Aptos    Santa Cruz    CA  ...          Night          Night   \n",
       "12105         Stockton   San Joaquin    CA  ...            Day            Day   \n",
       "12106           Denair    Stanislaus    CA  ...            Day            Day   \n",
       "\n",
       "      Nautical_Twilight  Astronomical_Twilight  Year  Month  Day  Time_S  \\\n",
       "27                  Day                    Day  2016      2    8      14   \n",
       "30                  Day                    Day  2016      2    8      16   \n",
       "363                 Day                    Day  2016      2   24       7   \n",
       "408                 Day                    Day  2016      2   29       7   \n",
       "461                 Day                    Day  2016      3    3       9   \n",
       "590                 Day                    Day  2016      3   10      15   \n",
       "6040                Day                    Day  2016     12    7      16   \n",
       "6044                Day                    Day  2016     12    7      16   \n",
       "6051                Day                    Day  2016     12    7      17   \n",
       "6052              Night                    Day  2016     12    7      18   \n",
       "6063              Night                  Night  2016     12    7      19   \n",
       "7537                Day                    Day  2016     12   17       9   \n",
       "8456              Night                  Night  2016     12   23      19   \n",
       "8504              Night                  Night  2016     12   23      23   \n",
       "8550              Night                  Night  2016     12   24      23   \n",
       "8774              Night                  Night  2016     12   27      21   \n",
       "9165                Day                    Day  2016     12   31      10   \n",
       "9321              Night                  Night  2017      1    2      22   \n",
       "9356                Day                    Day  2017      1    3       8   \n",
       "9748                Day                    Day  2017      1    5       7   \n",
       "10064             Night                  Night  2017      1    6      21   \n",
       "10086             Night                  Night  2017      1    6      23   \n",
       "10846               Day                    Day  2017      1   12       7   \n",
       "11108             Night                  Night  2017      1   13      23   \n",
       "12075             Night                  Night  2017      1   20      22   \n",
       "12090             Night                  Night  2017      1   21       4   \n",
       "12097             Night                    Day  2017      1   21       5   \n",
       "12098             Night                    Day  2017      1   21       5   \n",
       "12105               Day                    Day  2017      1   21       7   \n",
       "12106               Day                    Day  2017      1   21       7   \n",
       "\n",
       "      Weekday  Duration  \n",
       "27          0    2700.0  \n",
       "30          0    1800.0  \n",
       "363         2    2700.0  \n",
       "408         0    1800.0  \n",
       "461         3    1800.0  \n",
       "590         3    1800.0  \n",
       "6040        2    1754.0  \n",
       "6044        2    1778.0  \n",
       "6051        2    2681.0  \n",
       "6052        2    2684.0  \n",
       "6063        2    1782.0  \n",
       "7537        5    1778.0  \n",
       "8456        4    1780.0  \n",
       "8504        4    1775.0  \n",
       "8550        5    1778.0  \n",
       "8774        1    1756.0  \n",
       "9165        5    2688.0  \n",
       "9321        0    2674.0  \n",
       "9356        1    1757.0  \n",
       "9748        3    2587.0  \n",
       "10064       4    1767.0  \n",
       "10086       4    1777.0  \n",
       "10846       3    2675.0  \n",
       "11108       4    1771.0  \n",
       "12075       4    2679.0  \n",
       "12090       5    1792.0  \n",
       "12097       5    1787.0  \n",
       "12098       5    1785.0  \n",
       "12105       5    1783.0  \n",
       "12106       5    1784.0  \n",
       "\n",
       "[30 rows x 35 columns]"
      ]
     },
     "execution_count": 38,
     "metadata": {},
     "output_type": "execute_result"
    }
   ],
   "source": [
    "df_drop.head(30)"
   ]
  },
  {
   "cell_type": "code",
   "execution_count": 39,
   "id": "de95f782-b66a-4804-a947-a41a3a37a665",
   "metadata": {},
   "outputs": [
    {
     "data": {
      "text/plain": [
       "Weekday\n",
       "4    573636\n",
       "2    540536\n",
       "3    532151\n",
       "1    528774\n",
       "0    496438\n",
       "5    321964\n",
       "6    255330\n",
       "Name: count, dtype: int64"
      ]
     },
     "execution_count": 39,
     "metadata": {},
     "output_type": "execute_result"
    }
   ],
   "source": [
    "df_drop['Weekday'].value_counts()\n"
   ]
  },
  {
   "cell_type": "code",
   "execution_count": 40,
   "id": "4f1969c5-a82e-4e7e-8a12-ddb2e8cc72c9",
   "metadata": {},
   "outputs": [],
   "source": [
    "# df_drop.columns"
   ]
  },
  {
   "cell_type": "code",
   "execution_count": 41,
   "id": "888d64ec-e4be-4de6-aaa1-b74592d32e66",
   "metadata": {},
   "outputs": [
    {
     "data": {
      "text/plain": [
       "Civil_Twilight           0.327472\n",
       "Sunrise_Sunset           0.327472\n",
       "Astronomical_Twilight    0.327472\n",
       "Nautical_Twilight        0.327472\n",
       "Street                   0.196378\n",
       "Weather_Condition        0.161843\n",
       "City                     0.003047\n",
       "Wind_Direction           0.000492\n",
       "Description              0.000092\n",
       "Crossing                 0.000000\n",
       "Junction                 0.000000\n",
       "Traffic_Signal           0.000000\n",
       "Source                   0.000000\n",
       "Precipitation(in)        0.000000\n",
       "Month                    0.000000\n",
       "Day                      0.000000\n",
       "Time_S                   0.000000\n",
       "Weekday                  0.000000\n",
       "Year                     0.000000\n",
       "Visibility(mi)           0.000000\n",
       "Wind_Speed(mph)          0.000000\n",
       "Severity                 0.000000\n",
       "Pressure(in)             0.000000\n",
       "Humidity(%)              0.000000\n",
       "Wind_Chill(F)            0.000000\n",
       "Temperature(F)           0.000000\n",
       "Airport_Code             0.000000\n",
       "Timezone                 0.000000\n",
       "Zipcode                  0.000000\n",
       "State                    0.000000\n",
       "County                   0.000000\n",
       "Distance(mi)             0.000000\n",
       "Start_Lng                0.000000\n",
       "Start_Lat                0.000000\n",
       "Duration                 0.000000\n",
       "dtype: float64"
      ]
     },
     "execution_count": 41,
     "metadata": {},
     "output_type": "execute_result"
    }
   ],
   "source": [
    "null_percentage = (df_drop.isnull().sum()/df_drop.shape[0]) * 100\n",
    "null_percentage.sort_values(ascending = False)"
   ]
  },
  {
   "cell_type": "code",
   "execution_count": 42,
   "id": "1a900217-b7bb-43ed-9a3f-876dd8b3bc8f",
   "metadata": {},
   "outputs": [
    {
     "data": {
      "text/plain": [
       "(3248829, 35)"
      ]
     },
     "execution_count": 42,
     "metadata": {},
     "output_type": "execute_result"
    }
   ],
   "source": [
    "\n",
    "df_drop.shape"
   ]
  },
  {
   "cell_type": "markdown",
   "id": "1db17c7c-2a1a-4786-a81e-34fa229a266c",
   "metadata": {},
   "source": [
    "<strong> Since there are less number of null values in columns we can drop those datapoints </strong>"
   ]
  },
  {
   "cell_type": "code",
   "execution_count": 43,
   "id": "0f7235bc-45a2-4102-a3d5-6ecf13475670",
   "metadata": {},
   "outputs": [],
   "source": [
    "df_drop = df_drop.dropna(subset=['Weather_Condition', 'Wind_Direction'])"
   ]
  },
  {
   "cell_type": "code",
   "execution_count": 44,
   "id": "5a83d2f7-b533-432a-befb-6cac7b4df310",
   "metadata": {},
   "outputs": [
    {
     "data": {
      "text/plain": [
       "Sunrise_Sunset           0.327018\n",
       "Civil_Twilight           0.327018\n",
       "Nautical_Twilight        0.327018\n",
       "Astronomical_Twilight    0.327018\n",
       "Street                   0.196389\n",
       "City                     0.003052\n",
       "Description              0.000092\n",
       "dtype: float64"
      ]
     },
     "execution_count": 44,
     "metadata": {},
     "output_type": "execute_result"
    }
   ],
   "source": [
    "null_percentage = (df_drop.isnull().sum()/df_drop.shape[0]) * 100\n",
    "null_percentage[null_percentage > 0].sort_values(ascending = False)"
   ]
  },
  {
   "cell_type": "code",
   "execution_count": 45,
   "id": "3895f5e0-c7c7-471e-8ae8-7c86c797b3ba",
   "metadata": {},
   "outputs": [],
   "source": [
    "df_drop.dropna(subset=['Sunrise_Sunset','Civil_Twilight','Nautical_Twilight','Astronomical_Twilight','Street','City','Description'], inplace=True)\n"
   ]
  },
  {
   "cell_type": "code",
   "execution_count": 46,
   "id": "491ca7fc-d89d-4f8b-a722-a7aa2d3c9f05",
   "metadata": {},
   "outputs": [
    {
     "data": {
      "text/plain": [
       "Series([], dtype: float64)"
      ]
     },
     "execution_count": 46,
     "metadata": {},
     "output_type": "execute_result"
    }
   ],
   "source": [
    "null_percentage = (df_drop.isnull().sum()/df_drop.shape[0]) * 100\n",
    "null_percentage[null_percentage > 0].sort_values(ascending = False)"
   ]
  },
  {
   "cell_type": "code",
   "execution_count": 47,
   "id": "b52ae60b-dc56-469d-83e6-a62bbd7ef305",
   "metadata": {},
   "outputs": [
    {
     "data": {
      "text/plain": [
       "(3226663, 35)"
      ]
     },
     "execution_count": 47,
     "metadata": {},
     "output_type": "execute_result"
    }
   ],
   "source": [
    "df_drop.shape"
   ]
  },
  {
   "cell_type": "markdown",
   "id": "c9a44da4-59ed-46b9-95ba-bf6d527249c6",
   "metadata": {},
   "source": [
    "<strong>Cleaning Wind Direction Columns </strong>"
   ]
  },
  {
   "cell_type": "code",
   "execution_count": 48,
   "id": "88bb1241-f928-4f80-9dce-8f382cb10b87",
   "metadata": {},
   "outputs": [
    {
     "data": {
      "text/plain": [
       "array(['WNW', 'West', 'E', 'SE', 'W', 'East', 'NNE', 'NNW', 'ENE', 'NW',\n",
       "       'South', 'SSW', 'NE', 'SSE', 'ESE', 'SW', 'Variable', 'S', 'VAR',\n",
       "       'CALM', 'WSW', 'N', 'North'], dtype=object)"
      ]
     },
     "execution_count": 48,
     "metadata": {},
     "output_type": "execute_result"
    }
   ],
   "source": [
    "df_drop[\"Wind_Direction\"].unique()"
   ]
  },
  {
   "cell_type": "code",
   "execution_count": 49,
   "id": "4b575a40-eb02-4c0e-b885-c548836e69de",
   "metadata": {},
   "outputs": [],
   "source": [
    "df_drop = df_drop.replace({\n",
    "    'Wind_Direction': {\n",
    "        'South': 'S',\n",
    "        'North': 'N',\n",
    "        'Calm': 'CALM',\n",
    "        'East': 'E',\n",
    "        'West': 'W',\n",
    "        'Variable': 'VAR'\n",
    "    }\n",
    "})"
   ]
  },
  {
   "cell_type": "code",
   "execution_count": 50,
   "id": "1d3dce06-207d-478e-9772-9295b6f6affd",
   "metadata": {},
   "outputs": [
    {
     "data": {
      "text/plain": [
       "array(['WNW', 'W', 'E', 'SE', 'NNE', 'NNW', 'ENE', 'NW', 'S', 'SSW', 'NE',\n",
       "       'SSE', 'ESE', 'SW', 'VAR', 'CALM', 'WSW', 'N'], dtype=object)"
      ]
     },
     "execution_count": 50,
     "metadata": {},
     "output_type": "execute_result"
    }
   ],
   "source": [
    "df_drop[\"Wind_Direction\"].unique()"
   ]
  },
  {
   "cell_type": "markdown",
   "id": "a7bba47c-4f25-433d-bd4c-330800d46ac4",
   "metadata": {},
   "source": [
    "<strong>Inspecting Description column</strong>"
   ]
  },
  {
   "cell_type": "code",
   "execution_count": 51,
   "id": "80557efc-651e-4c1b-8b25-f99bc5d98327",
   "metadata": {},
   "outputs": [
    {
     "data": {
      "text/plain": [
       "27                   Accident on Helena St at OH-48 Main St.\n",
       "30         Accident on Frantz Rd Southbound at Bradenton ...\n",
       "363        Accident on US-35 US Highway 35 Northbound at ...\n",
       "408        Accident on I-75 Northbound at Exit 41 Austin ...\n",
       "461                         Accident on 5th St at Keowee St.\n",
       "                                 ...                        \n",
       "7728387                                 At CA-55 - Accident.\n",
       "7728389                             At Market St - Accident.\n",
       "7728390      At Camino Del Rio/Mission Center Rd - Accident.\n",
       "7728391    At Glassell St/Grand Ave - Accident. in the ri...\n",
       "7728392       At CA-90/Marina Fwy/Jefferson Blvd - Accident.\n",
       "Name: Description, Length: 3226663, dtype: object"
      ]
     },
     "execution_count": 51,
     "metadata": {},
     "output_type": "execute_result"
    }
   ],
   "source": [
    "df_drop['Description']"
   ]
  },
  {
   "cell_type": "markdown",
   "id": "bd6e71ea-12e8-4aee-affc-bfbf5987f41a",
   "metadata": {},
   "source": [
    "<strong>Since description contains some useful content we can use vector embeddings to get semantic information</strong>"
   ]
  },
  {
   "cell_type": "code",
   "execution_count": 52,
   "id": "304896f2-13f1-460f-940f-6b1913b60585",
   "metadata": {},
   "outputs": [],
   "source": [
    "import fasttext\n",
    "import fasttext.util\n",
    "# fasttext.util.download_model('en', if_exists='ignore')\n",
    "model_en = fasttext.load_model('cc.en.300.bin')"
   ]
  },
  {
   "cell_type": "markdown",
   "id": "bc3f092c-739c-4e0e-959a-6310d4ac70de",
   "metadata": {},
   "source": [
    "<strong>I have used fasttext because it is very quick and ideal for large datasets</strong>"
   ]
  },
  {
   "cell_type": "code",
   "execution_count": 53,
   "id": "57908f1d-e9c8-4fc9-931f-3dac0a1baf91",
   "metadata": {},
   "outputs": [],
   "source": [
    "def get_embedding(text):\n",
    "    return model_en.get_sentence_vector(text)"
   ]
  },
  {
   "cell_type": "code",
   "execution_count": 54,
   "id": "e660ec4f-523b-4535-926a-e49d9738c91e",
   "metadata": {},
   "outputs": [],
   "source": [
    "df_drop['Description_embeddings'] = df_drop['Description'].apply(get_embedding)"
   ]
  },
  {
   "cell_type": "code",
   "execution_count": 55,
   "id": "2e4398ca-3198-4915-a543-574e124f72b3",
   "metadata": {},
   "outputs": [],
   "source": [
    "# df_drop['Description'].info()"
   ]
  },
  {
   "cell_type": "code",
   "execution_count": 56,
   "id": "fde34968-80ee-4150-9b5a-2453167be999",
   "metadata": {},
   "outputs": [],
   "source": [
    "# df_drop['Description'].isnull().sum()"
   ]
  },
  {
   "cell_type": "code",
   "execution_count": 57,
   "id": "187d7976-5196-465e-a8db-f609175002e5",
   "metadata": {},
   "outputs": [],
   "source": [
    "# df_drop.dropna(subset=['Description'], inplace=True)\n"
   ]
  },
  {
   "cell_type": "code",
   "execution_count": 58,
   "id": "66b148c1-5213-45ad-b63b-d5960831db99",
   "metadata": {},
   "outputs": [],
   "source": [
    "# df_drop['Description'].isnull().sum()"
   ]
  },
  {
   "cell_type": "code",
   "execution_count": 59,
   "id": "8ff66e1f-1148-436b-b577-52eb2f934d07",
   "metadata": {},
   "outputs": [],
   "source": [
    "# df_drop['Description_embeddings'] = df_drop['Description'].apply(get_embedding)"
   ]
  },
  {
   "cell_type": "code",
   "execution_count": 60,
   "id": "9e276efc-a6b5-4381-aa3a-3970858750db",
   "metadata": {},
   "outputs": [
    {
     "data": {
      "text/plain": [
       "27     [0.013464432, 0.046787005, 0.026794016, 0.0368...\n",
       "30     [0.009582213, 0.039973386, -0.0096881, -0.0049...\n",
       "363    [-0.006095749, -0.002642335, 0.014200881, -0.0...\n",
       "408    [0.008399671, 0.048438054, 0.0005265806, -0.01...\n",
       "461    [0.016709683, 0.057730354, 0.020363579, 0.0133...\n",
       "Name: Description_embeddings, dtype: object"
      ]
     },
     "execution_count": 60,
     "metadata": {},
     "output_type": "execute_result"
    }
   ],
   "source": [
    "df_drop['Description_embeddings'][:5]"
   ]
  },
  {
   "cell_type": "code",
   "execution_count": 61,
   "id": "7f8370ce-c353-4fcc-9dec-5c49f9e6341d",
   "metadata": {},
   "outputs": [
    {
     "data": {
      "text/plain": [
       "(300,)"
      ]
     },
     "execution_count": 61,
     "metadata": {},
     "output_type": "execute_result"
    }
   ],
   "source": [
    "df_drop['Description_embeddings'].iloc[0].shape"
   ]
  },
  {
   "cell_type": "markdown",
   "id": "add960a3-44c5-48ee-ad61-d02468dface8",
   "metadata": {},
   "source": [
    "<strong>We can use vector embeddings for weather condition also to get semantic information</strong>"
   ]
  },
  {
   "cell_type": "code",
   "execution_count": 62,
   "id": "f69bd06f-b80d-4141-8de1-dcfb0c5456f3",
   "metadata": {},
   "outputs": [
    {
     "data": {
      "text/plain": [
       "array(['Mostly Cloudy', 'Overcast', 'Cloudy', 'Light Snow', 'Light Rain',\n",
       "       'Clear', 'Fair', 'Partly Cloudy', 'Smoke',\n",
       "       'Showers in the Vicinity', 'Light Rain with Thunder',\n",
       "       'Thunder in the Vicinity', 'T-Storm', 'Thunder', 'Light Drizzle',\n",
       "       'Light Freezing Rain', 'Scattered Clouds',\n",
       "       'Light Freezing Drizzle', 'Light Ice Pellets', 'Rain', 'Drizzle',\n",
       "       'Shallow Fog', 'Patches of Fog', 'N/A Precipitation',\n",
       "       'Heavy T-Storm', 'Heavy Rain', 'Haze', 'Tornado',\n",
       "       'Light Snow Shower', 'Wintry Mix', 'Rain Shower', 'Light Sleet',\n",
       "       'Thunder / Wintry Mix', 'Freezing Rain', 'Fog',\n",
       "       'Light Snow and Sleet', 'Mist', 'Blowing Dust',\n",
       "       'Sand / Dust Whirlwinds', 'Light Rain Shower',\n",
       "       'Sand / Dust Whirls Nearby', 'Rain and Sleet', 'Funnel Cloud',\n",
       "       'Light Thunderstorms and Rain', 'Small Hail', 'Snow',\n",
       "       'Light Rain Showers', 'Hail', 'Sleet', 'Heavy Drizzle', 'Squalls',\n",
       "       'Widespread Dust'], dtype=object)"
      ]
     },
     "execution_count": 62,
     "metadata": {},
     "output_type": "execute_result"
    }
   ],
   "source": [
    "df_drop['Weather_Condition'].unique()"
   ]
  },
  {
   "cell_type": "code",
   "execution_count": 63,
   "id": "acedd4c6-7ebf-42c2-9878-1f7d0b3e8de3",
   "metadata": {},
   "outputs": [],
   "source": [
    "df_drop['Weather_Condition_embeddings'] = df_drop['Weather_Condition'].apply(get_embedding)"
   ]
  },
  {
   "cell_type": "code",
   "execution_count": 64,
   "id": "16481143-b025-44ab-a255-59a04906b287",
   "metadata": {},
   "outputs": [
    {
     "data": {
      "text/plain": [
       "27         [-0.05769518, 0.032789998, -0.089027524, 0.056...\n",
       "30         [-0.08036636, -0.027058078, 0.018440805, 0.049...\n",
       "363        [-0.09204537, -0.003009274, -0.11716455, -0.00...\n",
       "408        [-0.08036636, -0.027058078, 0.018440805, 0.049...\n",
       "461        [-0.08732875, 0.06886304, 0.10674752, 0.019409...\n",
       "                                 ...                        \n",
       "7728387    [-0.022462675, 0.011953461, -0.118578285, -0.0...\n",
       "7728389    [-0.022462675, 0.011953461, -0.118578285, -0.0...\n",
       "7728390    [-0.022462675, 0.011953461, -0.118578285, -0.0...\n",
       "7728391    [-0.09273986, 0.035124853, -0.09774108, 0.0719...\n",
       "7728392    [-0.022462675, 0.011953461, -0.118578285, -0.0...\n",
       "Name: Weather_Condition_embeddings, Length: 3226663, dtype: object"
      ]
     },
     "execution_count": 64,
     "metadata": {},
     "output_type": "execute_result"
    }
   ],
   "source": [
    "df_drop['Weather_Condition_embeddings']"
   ]
  },
  {
   "cell_type": "code",
   "execution_count": 65,
   "id": "27c40505-9c41-4fa4-a27d-0b9b3bd4e5db",
   "metadata": {},
   "outputs": [
    {
     "data": {
      "text/plain": [
       "(37,)"
      ]
     },
     "execution_count": 65,
     "metadata": {},
     "output_type": "execute_result"
    }
   ],
   "source": [
    "df_drop.columns.shape"
   ]
  },
  {
   "cell_type": "code",
   "execution_count": 66,
   "id": "1c8b5de5-f200-44fc-97cc-b6873685738d",
   "metadata": {},
   "outputs": [],
   "source": [
    "df_drop.drop(columns = ['Weather_Condition','Description'],inplace = True)"
   ]
  },
  {
   "cell_type": "code",
   "execution_count": 67,
   "id": "019bb6f3-4ef2-433f-9db3-bdbb7a7f6ff5",
   "metadata": {},
   "outputs": [
    {
     "data": {
      "text/plain": [
       "(49,)"
      ]
     },
     "execution_count": 67,
     "metadata": {},
     "output_type": "execute_result"
    }
   ],
   "source": [
    "# df_drop['Source'].unique().shape\n",
    "# df_drop['Street'].unique().shape\n",
    "# df_drop['City'].unique().shape\n",
    "# df_drop['County'].unique().shape\n",
    "# df_drop['Zipcode'].unique().shape\n",
    "# df_drop['Airport_Code'].unique().shape\n",
    "df_drop['State'].unique().shape"
   ]
  },
  {
   "cell_type": "code",
   "execution_count": 68,
   "id": "1125d09f-ea3a-4884-a91a-505d02ab45c2",
   "metadata": {},
   "outputs": [],
   "source": [
    "df_drop.drop(columns = ['Street','City','County','Zipcode','Airport_Code'],inplace = True)"
   ]
  },
  {
   "cell_type": "code",
   "execution_count": 69,
   "id": "e430ebba-7e96-435e-aff9-cff01612bf2a",
   "metadata": {},
   "outputs": [
    {
     "data": {
      "text/plain": [
       "(30,)"
      ]
     },
     "execution_count": 69,
     "metadata": {},
     "output_type": "execute_result"
    }
   ],
   "source": [
    "df_drop.columns.shape"
   ]
  },
  {
   "cell_type": "markdown",
   "id": "ad61ca56-68df-4007-a7d3-ea4563dbd2f3",
   "metadata": {},
   "source": [
    "<strong>Segregating numerical and categorical features</strong>"
   ]
  },
  {
   "cell_type": "code",
   "execution_count": 70,
   "id": "977a621c-d4d3-48f6-8a04-2e011adddf91",
   "metadata": {},
   "outputs": [],
   "source": [
    "numerical_features = df_drop.select_dtypes(include=['number']).columns.tolist()\n",
    "categorical_features = df_drop.select_dtypes(exclude=['number']).columns.tolist()\n",
    "\n"
   ]
  },
  {
   "cell_type": "code",
   "execution_count": 71,
   "id": "3a3b5492-f813-435b-8cf7-4b1d62be4ca1",
   "metadata": {},
   "outputs": [
    {
     "data": {
      "text/plain": [
       "20"
      ]
     },
     "execution_count": 71,
     "metadata": {},
     "output_type": "execute_result"
    }
   ],
   "source": [
    "len(numerical_features)"
   ]
  },
  {
   "cell_type": "code",
   "execution_count": 72,
   "id": "d2c1b23e-d963-4c14-a5f5-e7af0152d507",
   "metadata": {},
   "outputs": [
    {
     "data": {
      "text/plain": [
       "['Severity',\n",
       " 'Start_Lat',\n",
       " 'Start_Lng',\n",
       " 'Distance(mi)',\n",
       " 'Temperature(F)',\n",
       " 'Wind_Chill(F)',\n",
       " 'Humidity(%)',\n",
       " 'Pressure(in)',\n",
       " 'Visibility(mi)',\n",
       " 'Wind_Speed(mph)',\n",
       " 'Precipitation(in)',\n",
       " 'Crossing',\n",
       " 'Junction',\n",
       " 'Traffic_Signal',\n",
       " 'Year',\n",
       " 'Month',\n",
       " 'Day',\n",
       " 'Time_S',\n",
       " 'Weekday',\n",
       " 'Duration']"
      ]
     },
     "execution_count": 72,
     "metadata": {},
     "output_type": "execute_result"
    }
   ],
   "source": [
    "numerical_features"
   ]
  },
  {
   "cell_type": "code",
   "execution_count": 73,
   "id": "d6b011ca-c5d7-4edc-97da-eacb2cc9cf25",
   "metadata": {},
   "outputs": [
    {
     "data": {
      "text/plain": [
       "10"
      ]
     },
     "execution_count": 73,
     "metadata": {},
     "output_type": "execute_result"
    }
   ],
   "source": [
    "len(categorical_features)"
   ]
  },
  {
   "cell_type": "code",
   "execution_count": 74,
   "id": "bb3e2c8e-0be1-40c2-9c67-343b1b1f8bf8",
   "metadata": {},
   "outputs": [
    {
     "data": {
      "text/plain": [
       "['Source',\n",
       " 'State',\n",
       " 'Timezone',\n",
       " 'Wind_Direction',\n",
       " 'Sunrise_Sunset',\n",
       " 'Civil_Twilight',\n",
       " 'Nautical_Twilight',\n",
       " 'Astronomical_Twilight',\n",
       " 'Description_embeddings',\n",
       " 'Weather_Condition_embeddings']"
      ]
     },
     "execution_count": 74,
     "metadata": {},
     "output_type": "execute_result"
    }
   ],
   "source": [
    "categorical_features"
   ]
  },
  {
   "cell_type": "code",
   "execution_count": 75,
   "id": "e5b369ce-2a9f-4130-aff4-96ec4dc63a93",
   "metadata": {},
   "outputs": [],
   "source": [
    "categorical_features.remove('Description_embeddings')\n",
    "categorical_features.remove('Weather_Condition_embeddings')"
   ]
  },
  {
   "cell_type": "code",
   "execution_count": 76,
   "id": "ec8d1f43-2363-45f8-8f7c-cd955749645d",
   "metadata": {},
   "outputs": [
    {
     "data": {
      "text/plain": [
       "8"
      ]
     },
     "execution_count": 76,
     "metadata": {},
     "output_type": "execute_result"
    }
   ],
   "source": [
    "len(categorical_features)"
   ]
  },
  {
   "cell_type": "markdown",
   "id": "d69765c6-8b97-4cad-bab5-b98ff242d0e9",
   "metadata": {},
   "source": [
    "<strong>Using only one tenth sample of the original data because of insufficient ram </strong>"
   ]
  },
  {
   "cell_type": "code",
   "execution_count": 77,
   "id": "b6e96620-7dfb-4f8a-92cd-3898ef293ade",
   "metadata": {},
   "outputs": [],
   "source": [
    "sampled_data = df_drop.sample(frac=1/10)"
   ]
  },
  {
   "cell_type": "markdown",
   "id": "bd5dd277-4c07-4c72-b6ba-5d27310ea037",
   "metadata": {},
   "source": [
    "<h3> OneHot Encoding of categorical features</h3>"
   ]
  },
  {
   "cell_type": "code",
   "execution_count": 78,
   "id": "c88485ea-a241-4881-bfdc-6b52c29097f0",
   "metadata": {},
   "outputs": [],
   "source": [
    "def apply_one_hot_encoding(df, categorical_features):\n",
    "    df_encoded = pd.get_dummies(df, columns=categorical_features, drop_first=False)\n",
    "    return df_encoded\n"
   ]
  },
  {
   "cell_type": "code",
   "execution_count": 79,
   "id": "1408bafd-f946-44f6-9864-812dae335c64",
   "metadata": {},
   "outputs": [],
   "source": [
    "# df_drop.isnull().sum()\n",
    "df_encoded = apply_one_hot_encoding(sampled_data,categorical_features)"
   ]
  },
  {
   "cell_type": "code",
   "execution_count": null,
   "id": "fdff4ef6-ad4e-4d1d-97ce-033eea70ae16",
   "metadata": {},
   "outputs": [],
   "source": []
  },
  {
   "cell_type": "markdown",
   "id": "1e981d75-6dc4-4329-81f8-a4665ada9d1f",
   "metadata": {},
   "source": [
    "<strong> Dropping the target variable</strong>"
   ]
  },
  {
   "cell_type": "code",
   "execution_count": 80,
   "id": "90ef63bf-aa79-4f43-b2ec-0be30d33fc91",
   "metadata": {},
   "outputs": [],
   "source": [
    "X = df_encoded.drop(\"Severity\",axis='columns')"
   ]
  },
  {
   "cell_type": "code",
   "execution_count": 81,
   "id": "021176d1-baed-4d19-96d1-a5293ea6d84a",
   "metadata": {},
   "outputs": [],
   "source": [
    "import numpy as np"
   ]
  },
  {
   "cell_type": "code",
   "execution_count": 82,
   "id": "607ace64-21ed-4518-94bb-11c450f13bdb",
   "metadata": {},
   "outputs": [],
   "source": [
    "y = df_encoded[\"Severity\"]"
   ]
  },
  {
   "cell_type": "code",
   "execution_count": 83,
   "id": "454f0841-df06-4045-8bc1-2641fff6ccc3",
   "metadata": {},
   "outputs": [],
   "source": [
    "from sklearn.model_selection import train_test_split\n",
    "X_train, X_test, y_train, y_test = train_test_split(X, y, test_size=0.2, random_state=12)"
   ]
  },
  {
   "cell_type": "markdown",
   "id": "1321995b-a008-465c-ac69-c3919b014c39",
   "metadata": {},
   "source": [
    "<strong> Flattening and poping out the vector embeddings</strong>"
   ]
  },
  {
   "cell_type": "code",
   "execution_count": 84,
   "id": "501e20b8-b296-4e9b-885c-b40275ffddba",
   "metadata": {},
   "outputs": [],
   "source": [
    "Description_embeddings = np.vstack(X_train.pop('Description_embeddings'))  \n",
    "Weather_Condition_embeddings = np.vstack(X_train.pop('Weather_Condition_embeddings'))  "
   ]
  },
  {
   "cell_type": "code",
   "execution_count": 85,
   "id": "731480cd-7b79-40a3-8cfd-bb5a041d66f6",
   "metadata": {},
   "outputs": [
    {
     "data": {
      "text/plain": [
       "(258132, 101)"
      ]
     },
     "execution_count": 85,
     "metadata": {},
     "output_type": "execute_result"
    }
   ],
   "source": [
    "X_train.shape"
   ]
  },
  {
   "cell_type": "code",
   "execution_count": 86,
   "id": "ebb794b3-c10d-4118-bbce-a702c6f1b2f4",
   "metadata": {},
   "outputs": [],
   "source": [
    "# import numpy as "
   ]
  },
  {
   "cell_type": "code",
   "execution_count": 87,
   "id": "9c8ba8a0-abd4-41e5-b551-6f1d5ef56487",
   "metadata": {},
   "outputs": [
    {
     "name": "stdout",
     "output_type": "stream",
     "text": [
      "(300,)\n"
     ]
    }
   ],
   "source": [
    "print(df_encoded['Description_embeddings'].iloc[0].shape)\n"
   ]
  },
  {
   "cell_type": "markdown",
   "id": "cfbebaee-2b83-4210-a6ff-b74cdf1239bd",
   "metadata": {},
   "source": [
    "<strong> Concatinating vector embeddings with other features </strong>"
   ]
  },
  {
   "cell_type": "code",
   "execution_count": 88,
   "id": "6a529346-aad3-4f77-a522-e974806ccb62",
   "metadata": {},
   "outputs": [],
   "source": [
    "X_train_combined = np.concatenate([X_train.to_numpy(), Description_embeddings, Weather_Condition_embeddings], axis=1)"
   ]
  },
  {
   "cell_type": "markdown",
   "id": "94e6a354-f3dd-4164-928c-3c57f0aa3bac",
   "metadata": {},
   "source": [
    "<h1>Training Decision Tree Classifier </h1>"
   ]
  },
  {
   "cell_type": "code",
   "execution_count": 89,
   "id": "07197247-9031-4fcf-b528-f026676d2b0b",
   "metadata": {},
   "outputs": [],
   "source": [
    "from sklearn.tree import DecisionTreeClassifier\n",
    "treeClassifier = DecisionTreeClassifier()"
   ]
  },
  {
   "cell_type": "code",
   "execution_count": 90,
   "id": "e1ffc65e-a8fa-4c3b-8080-37c0871c8651",
   "metadata": {},
   "outputs": [
    {
     "data": {
      "text/html": [
       "<style>#sk-container-id-1 {color: black;}#sk-container-id-1 pre{padding: 0;}#sk-container-id-1 div.sk-toggleable {background-color: white;}#sk-container-id-1 label.sk-toggleable__label {cursor: pointer;display: block;width: 100%;margin-bottom: 0;padding: 0.3em;box-sizing: border-box;text-align: center;}#sk-container-id-1 label.sk-toggleable__label-arrow:before {content: \"▸\";float: left;margin-right: 0.25em;color: #696969;}#sk-container-id-1 label.sk-toggleable__label-arrow:hover:before {color: black;}#sk-container-id-1 div.sk-estimator:hover label.sk-toggleable__label-arrow:before {color: black;}#sk-container-id-1 div.sk-toggleable__content {max-height: 0;max-width: 0;overflow: hidden;text-align: left;background-color: #f0f8ff;}#sk-container-id-1 div.sk-toggleable__content pre {margin: 0.2em;color: black;border-radius: 0.25em;background-color: #f0f8ff;}#sk-container-id-1 input.sk-toggleable__control:checked~div.sk-toggleable__content {max-height: 200px;max-width: 100%;overflow: auto;}#sk-container-id-1 input.sk-toggleable__control:checked~label.sk-toggleable__label-arrow:before {content: \"▾\";}#sk-container-id-1 div.sk-estimator input.sk-toggleable__control:checked~label.sk-toggleable__label {background-color: #d4ebff;}#sk-container-id-1 div.sk-label input.sk-toggleable__control:checked~label.sk-toggleable__label {background-color: #d4ebff;}#sk-container-id-1 input.sk-hidden--visually {border: 0;clip: rect(1px 1px 1px 1px);clip: rect(1px, 1px, 1px, 1px);height: 1px;margin: -1px;overflow: hidden;padding: 0;position: absolute;width: 1px;}#sk-container-id-1 div.sk-estimator {font-family: monospace;background-color: #f0f8ff;border: 1px dotted black;border-radius: 0.25em;box-sizing: border-box;margin-bottom: 0.5em;}#sk-container-id-1 div.sk-estimator:hover {background-color: #d4ebff;}#sk-container-id-1 div.sk-parallel-item::after {content: \"\";width: 100%;border-bottom: 1px solid gray;flex-grow: 1;}#sk-container-id-1 div.sk-label:hover label.sk-toggleable__label {background-color: #d4ebff;}#sk-container-id-1 div.sk-serial::before {content: \"\";position: absolute;border-left: 1px solid gray;box-sizing: border-box;top: 0;bottom: 0;left: 50%;z-index: 0;}#sk-container-id-1 div.sk-serial {display: flex;flex-direction: column;align-items: center;background-color: white;padding-right: 0.2em;padding-left: 0.2em;position: relative;}#sk-container-id-1 div.sk-item {position: relative;z-index: 1;}#sk-container-id-1 div.sk-parallel {display: flex;align-items: stretch;justify-content: center;background-color: white;position: relative;}#sk-container-id-1 div.sk-item::before, #sk-container-id-1 div.sk-parallel-item::before {content: \"\";position: absolute;border-left: 1px solid gray;box-sizing: border-box;top: 0;bottom: 0;left: 50%;z-index: -1;}#sk-container-id-1 div.sk-parallel-item {display: flex;flex-direction: column;z-index: 1;position: relative;background-color: white;}#sk-container-id-1 div.sk-parallel-item:first-child::after {align-self: flex-end;width: 50%;}#sk-container-id-1 div.sk-parallel-item:last-child::after {align-self: flex-start;width: 50%;}#sk-container-id-1 div.sk-parallel-item:only-child::after {width: 0;}#sk-container-id-1 div.sk-dashed-wrapped {border: 1px dashed gray;margin: 0 0.4em 0.5em 0.4em;box-sizing: border-box;padding-bottom: 0.4em;background-color: white;}#sk-container-id-1 div.sk-label label {font-family: monospace;font-weight: bold;display: inline-block;line-height: 1.2em;}#sk-container-id-1 div.sk-label-container {text-align: center;}#sk-container-id-1 div.sk-container {/* jupyter's `normalize.less` sets `[hidden] { display: none; }` but bootstrap.min.css set `[hidden] { display: none !important; }` so we also need the `!important` here to be able to override the default hidden behavior on the sphinx rendered scikit-learn.org. See: https://github.com/scikit-learn/scikit-learn/issues/21755 */display: inline-block !important;position: relative;}#sk-container-id-1 div.sk-text-repr-fallback {display: none;}</style><div id=\"sk-container-id-1\" class=\"sk-top-container\"><div class=\"sk-text-repr-fallback\"><pre>DecisionTreeClassifier()</pre><b>In a Jupyter environment, please rerun this cell to show the HTML representation or trust the notebook. <br />On GitHub, the HTML representation is unable to render, please try loading this page with nbviewer.org.</b></div><div class=\"sk-container\" hidden><div class=\"sk-item\"><div class=\"sk-estimator sk-toggleable\"><input class=\"sk-toggleable__control sk-hidden--visually\" id=\"sk-estimator-id-1\" type=\"checkbox\" checked><label for=\"sk-estimator-id-1\" class=\"sk-toggleable__label sk-toggleable__label-arrow\">DecisionTreeClassifier</label><div class=\"sk-toggleable__content\"><pre>DecisionTreeClassifier()</pre></div></div></div></div></div>"
      ],
      "text/plain": [
       "DecisionTreeClassifier()"
      ]
     },
     "execution_count": 90,
     "metadata": {},
     "output_type": "execute_result"
    }
   ],
   "source": [
    "treeClassifier.fit(X_train_combined,y_train)"
   ]
  },
  {
   "cell_type": "code",
   "execution_count": 91,
   "id": "9c211d16-7260-4887-bf94-c9183d1f340f",
   "metadata": {},
   "outputs": [
    {
     "data": {
      "text/plain": [
       "0.9993569181658997"
      ]
     },
     "execution_count": 91,
     "metadata": {},
     "output_type": "execute_result"
    }
   ],
   "source": [
    "from sklearn.metrics import accuracy_score\n",
    "treeClassifier.score(X_train_combined,y_train)\n"
   ]
  },
  {
   "cell_type": "markdown",
   "id": "94ade986-71b8-4753-beb6-ef1ba2e15dec",
   "metadata": {},
   "source": [
    "<h1> Accuracy on test set </h1>"
   ]
  },
  {
   "cell_type": "code",
   "execution_count": 92,
   "id": "01d1a11c-8a60-4c9d-b807-5841542b35bb",
   "metadata": {},
   "outputs": [
    {
     "name": "stdout",
     "output_type": "stream",
     "text": [
      "Accuracy score: 0.9021446059441535\n"
     ]
    }
   ],
   "source": [
    "from sklearn.metrics import accuracy_score\n",
    "\n",
    "\n",
    "# numerical_and_ohe_columns_test = X_test.drop([ 'Description_embeddings', 'Weather_Condition_embeddings'], axis=1).values\n",
    "Description_embeddings_test = np.vstack(X_test.pop('Description_embeddings'))  \n",
    "Weather_Condition_embeddings_test = np.vstack(X_test.pop('Weather_Condition_embeddings'))  \n",
    "X_test_combined = np.concatenate([X_test.to_numpy(), Description_embeddings_test, Weather_Condition_embeddings_test], axis=1)\n",
    "y_pred = treeClassifier.predict(X_test_combined)\n",
    "\n",
    "accuracy = accuracy_score(y_test, y_pred)\n",
    "\n",
    "print(\"Accuracy score:\", accuracy)\n"
   ]
  },
  {
   "cell_type": "code",
   "execution_count": null,
   "id": "b3544465-1950-470c-a241-18082739c419",
   "metadata": {},
   "outputs": [],
   "source": []
  },
  {
   "cell_type": "markdown",
   "id": "a8ef8147-e0b7-4e6e-8b28-fc48bdbf4ff1",
   "metadata": {},
   "source": [
    "<h2>Hyperparameter tuning and Evaluating different models</h2>"
   ]
  },
  {
   "cell_type": "code",
   "execution_count": 99,
   "id": "82fa0354-8904-4e9a-a71a-c53898d9d358",
   "metadata": {},
   "outputs": [],
   "source": [
    "from sklearn.linear_model import LogisticRegression\n",
    "import xgboost as xgb\n",
    "from sklearn.tree import DecisionTreeClassifier\n",
    "model_params = {\n",
    "    'logistic_regression':{\n",
    "        'model':LogisticRegression(multi_class='auto'),\n",
    "        'params': {\n",
    "            'C':[1,5]\n",
    "        }\n",
    "    },\n",
    "\n",
    "    # 'xgboost':{\n",
    "    #     'model': xgb.XGBClassifier(n_estimators=100),\n",
    "    #     'params':{\n",
    "    #         'learning_rate': [0.01, 0.1, 0.2],\n",
    "    #         # 'max_depth': [3, 5, 7],\n",
    "    #     }\n",
    "    # },\n",
    "    'decisiontree':{\n",
    "        'model': DecisionTreeClassifier(),\n",
    "        'params':{\n",
    "            # 'learning_rate': [0.01, 0.1, 0.2],\n",
    "            'criterion': ['gini', 'entropy'],\n",
    "            # max_depth': [3, 5, 10, None],\n",
    "        }\n",
    "    }\n",
    "    \n",
    "}"
   ]
  },
  {
   "cell_type": "code",
   "execution_count": null,
   "id": "2576e489-5b46-4311-9629-e9fe8ce4822c",
   "metadata": {},
   "outputs": [],
   "source": [
    "from sklearn.model_selection import GridSearchCV\n",
    "\n",
    "scores = []\n",
    "\n",
    "for model_name, mp in model_params.items():\n",
    "    clf = GridSearchCV(mp['model'],mp['params'],cv=5,return_train_score=False)\n",
    "    clf.fit(X_train_combined,y_train)\n",
    "    scores.append({\n",
    "        'model':model_name,\n",
    "        'best_score': clf.best_score_,\n",
    "        'best_params':clf.best_params_\n",
    "    })"
   ]
  },
  {
   "cell_type": "code",
   "execution_count": null,
   "id": "ee715b6a-79e5-461c-8aa9-80d3824f316f",
   "metadata": {},
   "outputs": [],
   "source": [
    "#classification report of the best model\n",
    "#confusion matrix\n",
    "#Roc-Auc curve for all models to determine best threshold and best model"
   ]
  }
 ],
 "metadata": {
  "kernelspec": {
   "display_name": "Python 3 (ipykernel)",
   "language": "python",
   "name": "python3"
  },
  "language_info": {
   "codemirror_mode": {
    "name": "ipython",
    "version": 3
   },
   "file_extension": ".py",
   "mimetype": "text/x-python",
   "name": "python",
   "nbconvert_exporter": "python",
   "pygments_lexer": "ipython3",
   "version": "3.11.7"
  }
 },
 "nbformat": 4,
 "nbformat_minor": 5
}
